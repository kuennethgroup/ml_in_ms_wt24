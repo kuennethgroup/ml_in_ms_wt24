{
 "cells": [
  {
   "cell_type": "markdown",
   "metadata": {},
   "source": [
    "# Computer vision template\n",
    "This follows https://auto.gluon.ai/stable/tutorials/multimodal/image_prediction/beginner_image_cls.html"
   ]
  },
  {
   "cell_type": "code",
   "execution_count": 1,
   "metadata": {},
   "outputs": [],
   "source": [
    "import os\n",
    "\n",
    "# Use the third GPU onlu\n",
    "os.environ[\"CUDA_VISIBLE_DEVICES\"] = \"2\""
   ]
  },
  {
   "cell_type": "code",
   "execution_count": null,
   "metadata": {},
   "outputs": [],
   "source": [
    "import pandas as pd\n",
    "from sklearn.model_selection import train_test_split\n",
    "from pathlib import Path\n",
    "\n",
    "# Load images from the images directory\n",
    "df = pd.DataFrame([str(i) for i in Path(\"images\").glob(\"*.tif\")], columns=[\"path\"])\n",
    "\n",
    "# Load the property that you want to predict\n",
    "df_out = pd.read_csv(\"data_to_predict.csv\")\n",
    "\n",
    "# Merge both to data set\n",
    "df = pd.concat((df, df_out), axis=1)\n",
    "\n",
    "# Split\n",
    "df_train, df_test = train_test_split(df, test_size=0.20, random_state=42)"
   ]
  },
  {
   "cell_type": "code",
   "execution_count": null,
   "metadata": {},
   "outputs": [],
   "source": [
    "from autogluon.multimodal import MultiModalPredictor\n",
    "import uuid\n",
    "\n",
    "model_path = f\"./tmp/{uuid.uuid4().hex}-automm_shopee\"\n",
    "predictor = MultiModalPredictor(label=\"area\", path=model_path)\n",
    "predictor.fit(\n",
    "    train_data=df_train,\n",
    "    time_limit=50,  # seconds\n",
    "    hyperparameters={\"env.num_gpus\": 1, \"optimization.max_epochs\": 100},\n",
    ")"
   ]
  },
  {
   "cell_type": "code",
   "execution_count": null,
   "metadata": {},
   "outputs": [],
   "source": [
    "import matplotlib.pyplot as plt\n",
    "\n",
    "pred = predictor.predict(df_test)\n",
    "df_test.area\n",
    "\n",
    "plt.plot(df_test.area, pred, \"o\")\n",
    "plt.plot([10, 60], [10, 60], \"k--\")"
   ]
  }
 ],
 "metadata": {
  "kernelspec": {
   "display_name": ".venv",
   "language": "python",
   "name": "python3"
  },
  "language_info": {
   "codemirror_mode": {
    "name": "ipython",
    "version": 3
   },
   "file_extension": ".py",
   "mimetype": "text/x-python",
   "name": "python",
   "nbconvert_exporter": "python",
   "pygments_lexer": "ipython3",
   "version": "3.10.12"
  }
 },
 "nbformat": 4,
 "nbformat_minor": 2
}
