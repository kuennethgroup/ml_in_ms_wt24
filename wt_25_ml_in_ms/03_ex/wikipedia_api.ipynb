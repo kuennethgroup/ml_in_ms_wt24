{
 "cells": [
  {
   "cell_type": "markdown",
   "metadata": {},
   "source": [
    "# Wikipedia and wordcloud"
   ]
  },
  {
   "cell_type": "markdown",
   "metadata": {},
   "source": [
    "<!--<badge>--><a href=\"https://colab.research.google.com/github/kuennethgroup/MLinMS/blob/main/3_exercise/outlier_detection.ipynb\" target=\"_parent\"><img src=\"https://colab.research.google.com/assets/colab-badge.svg\" alt=\"Open In Colab\"/></a><!--</badge>-"
   ]
  },
  {
   "cell_type": "code",
   "execution_count": null,
   "metadata": {},
   "outputs": [],
   "source": [
    "#!pip install wikipedia-api\n",
    "from pprint import pprint\n",
    "import wikipediaapi\n",
    "\n",
    "wiki_wiki = wikipediaapi.Wikipedia(\"MyProjectName (bla@bla.com)\", \"en\")\n",
    "\n",
    "page_py = wiki_wiki.page(\"Polyethylene_glycol\")\n",
    "print(page_py.text)"
   ]
  },
  {
   "cell_type": "markdown",
   "metadata": {},
   "source": [
    "# Exercise \n",
    "\n",
    "1. Iteratively retrieve data for https://en.wikipedia.org/wiki/Polyethylene_glycol, https://en.wikipedia.org/wiki/Polyethylene, https://en.wikipedia.org/wiki/Polyethylene_terephthalate, and https://en.wikipedia.org/wiki/Acrylonitrile_butadiene_styrene\n",
    "2. Create a dictionary that contains {`Polyethylene_glycol`: `wiki_text`, ...}"
   ]
  },
  {
   "cell_type": "code",
   "execution_count": null,
   "metadata": {},
   "outputs": [],
   "source": [
    "#!pip install wordcloud\n",
    "\n",
    "from wordcloud import WordCloud\n",
    "\n",
    "# Display the generated image:\n",
    "import matplotlib.pyplot as plt\n",
    "\n",
    "# Generate a word cloud image\n",
    "# lower max_font_size\n",
    "wordcloud = WordCloud(\n",
    "    max_font_size=40,\n",
    ").generate(page_py.text)\n",
    "plt.figure()\n",
    "plt.imshow(wordcloud, interpolation=\"bilinear\")\n",
    "plt.axis(\"off\")\n",
    "plt.show()"
   ]
  },
  {
   "cell_type": "markdown",
   "metadata": {},
   "source": [
    "# Exercise\n",
    "1. Generate the 4 word clouds for each wikipedia article (above) and 1 word cloud that is generated based on all wikipedi articles"
   ]
  }
 ],
 "metadata": {
  "kernelspec": {
   "display_name": ".venv",
   "language": "python",
   "name": "python3"
  },
  "language_info": {
   "name": "python",
   "version": "3.12.7"
  }
 },
 "nbformat": 4,
 "nbformat_minor": 2
}
