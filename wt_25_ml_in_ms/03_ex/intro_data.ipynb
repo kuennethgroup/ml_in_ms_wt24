{
  "cells": [
    {
      "cell_type": "markdown",
      "metadata": {},
      "source": [
        "# Introduction on data\n",
        "\n",
        "<!--<badge>--><a href=\"https://colab.research.google.com/github/kuennethgroup/ml_in_ms_wt24/blob/main/wt_25_ml_in_ms/03_ex/intro_data.ipynb\" target=\"_parent\"><img src=\"https://colab.research.google.com/assets/colab-badge.svg\" alt=\"Open In Colab\"/></a><!--</badge>-->"
      ]
    },
    {
      "cell_type": "markdown",
      "metadata": {},
      "source": [
        "### Generate random blobs data\n",
        "\n",
        "`sklearn`'s `make_blobs` function generates a random isotropic Gaussian blobs dataset\n",
        "\n",
        "**Exercise** \n",
        "\n",
        "- Play with the parameters of `make_blobs` and see how the plot changes\n",
        "\n"
      ]
    },
    {
      "cell_type": "code",
      "execution_count": null,
      "metadata": {},
      "outputs": [],
      "source": [
        "#!pip install scikit-learn\n",
        "from sklearn.datasets import make_blobs\n",
        "import pandas as pd\n",
        "\n",
        "data = make_blobs(\n",
        "    n_samples=100, centers=5, cluster_std=1, n_features=2, random_state=10\n",
        ")\n",
        "\n",
        "# Convert the data to a pandas dataframe\n",
        "# data[0] == X, data[1] == y\n",
        "column_names = [f\"feat{n}\" for n in range(data[0].shape[1])]\n",
        "df_blob = pd.DataFrame(data[0], columns=column_names)\n",
        "\n",
        "# add y (or target)\n",
        "df_blob[\"target\"] = data[1]\n",
        "df_blob.plot.scatter(x=\"feat0\", y=\"feat1\", c=\"target\", cmap=\"Accent\")\n",
        "df_blob"
      ]
    },
    {
      "cell_type": "markdown",
      "metadata": {},
      "source": [
        "### Generate data for a regression\n",
        "\n",
        "**Exercise** \n",
        "\n",
        "- Play with the parameters of `make_regression` and see how the plot changes\n"
      ]
    },
    {
      "cell_type": "code",
      "execution_count": null,
      "metadata": {},
      "outputs": [],
      "source": [
        "from sklearn.datasets import make_regression\n",
        "\n",
        "data = make_regression(\n",
        "    n_samples=400,\n",
        "    random_state=10,\n",
        "    noise=10,\n",
        "    n_features=1,\n",
        ")\n",
        "# Convert data to dataframe\n",
        "column_names = [f\"feat{n}\" for n in range(data[0].shape[1])]\n",
        "df_reg = pd.DataFrame(data[0], columns=column_names)\n",
        "df_reg[\"target\"] = data[1]\n",
        "\n",
        "# Scatter plot\n",
        "df_reg.plot.scatter(y=\"target\", x=\"feat0\")\n",
        "df_reg.head()"
      ]
    },
    {
      "cell_type": "markdown",
      "metadata": {},
      "source": [
        "\n",
        "**Exercise** \n",
        "\n",
        "- Change number of bins to 50, 100, 150, 200"
      ]
    },
    {
      "cell_type": "code",
      "execution_count": null,
      "metadata": {},
      "outputs": [],
      "source": [
        "# Plot histogram with 200 bins\n",
        "df_reg.plot.hist(bins=10)"
      ]
    },
    {
      "cell_type": "markdown",
      "metadata": {},
      "source": [
        "### Split data\n",
        "\n",
        "Read through: \n",
        "https://scikit-learn.org/stable/modules/generated/sklearn.model_selection.train_test_split.html#sklearn.model_selection.train_test_split \n",
        "\n",
        "For model evaluation,\n",
        "- Split the dataset to 80% for training and 20% for testing the model. \n",
        "- Set the random seed to 10, making the split reproducible\n",
        "- Plot `feat0` and `target` for the train and test dataset in the same plot. Use two colors to distinguish train and test\n",
        "\n",
        "\n",
        "**Exercise** \n",
        "\n",
        "- Change split 80/20 to 70/30\n",
        "- Run without the random seed\n",
        "- Change random seed to 20\n"
      ]
    },
    {
      "cell_type": "code",
      "execution_count": null,
      "metadata": {},
      "outputs": [],
      "source": [
        "from sklearn.model_selection import train_test_split\n",
        "import matplotlib.pyplot as plt\n",
        "\n",
        "fig, ax = plt.subplots(1, 1)\n",
        "\n",
        "# Use the arguments test_size and random_state in the function\n",
        "df_train, df_test = train_test_split(df_reg, random_state=20, train_size=0.8)\n",
        "\n",
        "ax.plot(df_train[\"feat0\"], df_train[\"target\"], \"o\", ms=3, label=\"train\")\n",
        "ax.plot(df_test[\"feat0\"], df_test[\"target\"], \"D\", ms=3, color=\"g\", label=\"test\")\n",
        "ax.legend()"
      ]
    },
    {
      "cell_type": "markdown",
      "metadata": {},
      "source": [
        "### k-fold cross validation\n",
        "\n",
        "Read through: \n",
        "[https://scikit-learn.org/stable/modules/generated/sklearn.model_selection.train_test_split.html#sklearn.model_selection.train_test_split](https://scikit-learn.org/stable/modules/generated/sklearn.model_selection.KFold.html)\n",
        "\n",
        "For model evaluation,\n",
        "- Use k-fold cross validation to split the dat\n",
        "- Plot `feat0` and `target` for the each fold for the training and test data\n",
        "\n",
        "\n",
        "**Exercise** \n",
        "\n",
        "- Change n_splits to 3,5,8,9,10\n",
        "\n"
      ]
    },
    {
      "cell_type": "code",
      "execution_count": null,
      "metadata": {},
      "outputs": [],
      "source": [
        "from sklearn.model_selection import KFold\n",
        "\n",
        "\n",
        "n_splits = 5\n",
        "\n",
        "fig, axx = plt.subplots(1, n_splits, figsize=(15, 5))\n",
        "\n",
        "kf = KFold(n_splits=n_splits)\n",
        "\n",
        "for num, ((train_index, test_index), ax) in enumerate(zip(kf.split(df_reg), axx)):\n",
        "    df_train = df_reg.iloc[train_index]\n",
        "    ax.plot(df_train[\"feat0\"], df_train[\"target\"], \"o\", ms=3, label=\"train\")\n",
        "    df_test = df_reg.iloc[test_index]\n",
        "    ax.plot(df_test[\"feat0\"], df_test[\"target\"], \"D\", ms=3, label=\"test\")\n",
        "    ax.legend()\n",
        "\n",
        "    print(f\"Split {num}: Test points: {len(df_test)} | Train points: {len(df_train)}\")"
      ]
    },
    {
      "cell_type": "markdown",
      "metadata": {},
      "source": [
        "### Save pandas data frame\n",
        "\n",
        "**Exercise** \n",
        "\n",
        "- Save and read from parquet files (not CSV)"
      ]
    },
    {
      "cell_type": "code",
      "execution_count": null,
      "metadata": {},
      "outputs": [],
      "source": [
        "df_reg.to_csv(\"my_data_delete_later.csv\")\n",
        "pd.read_csv(\"my_data_delete_later.csv\")"
      ]
    }
  ],
  "metadata": {
    "kernelspec": {
      "display_name": ".venv",
      "language": "python",
      "name": "python3"
    },
    "language_info": {
      "codemirror_mode": {
        "name": "ipython",
        "version": 3
      },
      "file_extension": ".py",
      "mimetype": "text/x-python",
      "name": "python",
      "nbconvert_exporter": "python",
      "pygments_lexer": "ipython3",
      "version": "3.12.7"
    }
  },
  "nbformat": 4,
  "nbformat_minor": 2
}