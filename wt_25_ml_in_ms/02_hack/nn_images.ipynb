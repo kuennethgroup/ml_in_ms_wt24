{
 "cells": [
  {
   "cell_type": "markdown",
   "metadata": {},
   "source": [
    "# Train an neural network for regression\n",
    "\n",
    "- Watch this video https://lightning.ai/docs/pytorch/stable/starter/introduction.html"
   ]
  },
  {
   "cell_type": "code",
   "execution_count": 1,
   "metadata": {},
   "outputs": [],
   "source": [
    "# pip install lightning pandas matplotlib"
   ]
  },
  {
   "cell_type": "code",
   "execution_count": 2,
   "metadata": {},
   "outputs": [
    {
     "name": "stderr",
     "output_type": "stream",
     "text": [
      "2024-01-30 15:44:58.285107: E external/local_xla/xla/stream_executor/cuda/cuda_dnn.cc:9261] Unable to register cuDNN factory: Attempting to register factory for plugin cuDNN when one has already been registered\n",
      "2024-01-30 15:44:58.285166: E external/local_xla/xla/stream_executor/cuda/cuda_fft.cc:607] Unable to register cuFFT factory: Attempting to register factory for plugin cuFFT when one has already been registered\n",
      "2024-01-30 15:44:58.285995: E external/local_xla/xla/stream_executor/cuda/cuda_blas.cc:1515] Unable to register cuBLAS factory: Attempting to register factory for plugin cuBLAS when one has already been registered\n",
      "2024-01-30 15:44:58.291092: I tensorflow/core/platform/cpu_feature_guard.cc:182] This TensorFlow binary is optimized to use available CPU instructions in performance-critical operations.\n",
      "To enable the following instructions: AVX2 FMA, in other operations, rebuild TensorFlow with the appropriate compiler flags.\n",
      "2024-01-30 15:44:58.885322: W tensorflow/compiler/tf2tensorrt/utils/py_utils.cc:38] TF-TRT Warning: Could not find TensorRT\n"
     ]
    },
    {
     "name": "stdout",
     "output_type": "stream",
     "text": [
      "(5000, 32, 32, 3)\n",
      "uint8\n",
      "(5000, 1)\n",
      "int64\n",
      "(1000, 32, 32, 3)\n"
     ]
    }
   ],
   "source": [
    "# Replace this test data with your data\n",
    "import numpy as np\n",
    "from keras.datasets import cifar100\n",
    "\n",
    "(x_train, y_train), (x_test, y_test) = cifar100.load_data()\n",
    "x_train = x_train[:5000]\n",
    "y_train = y_train[:5000]\n",
    "\n",
    "x_test = x_test[:1000]\n",
    "y_test = y_test[:1000]\n",
    "\n",
    "print(x_train.shape)\n",
    "print(x_train.dtype)\n",
    "print(y_train.shape)\n",
    "print(y_train.dtype)\n",
    "print(x_test.shape)"
   ]
  },
  {
   "cell_type": "code",
   "execution_count": 3,
   "metadata": {},
   "outputs": [],
   "source": [
    "import torch.utils.data as data_utils\n",
    "import numpy as np\n",
    "from sklearn.model_selection import train_test_split\n",
    "import torch\n",
    "\n",
    "# Train\n",
    "train_fps = torch.Tensor(x_train.astype(np.float32))\n",
    "train_values = torch.Tensor(y_train.astype(np.float32))\n",
    "train_data = data_utils.TensorDataset(train_fps, train_values)\n",
    "train_loader = data_utils.DataLoader(train_data, batch_size=100, shuffle=False)\n",
    "\n",
    "# Validation\n",
    "val_fps = torch.Tensor(x_test.astype(np.float32))\n",
    "val_values = torch.Tensor(y_test.astype(np.float32))\n",
    "val_data = data_utils.TensorDataset(val_fps, val_values)\n",
    "val_loader = data_utils.DataLoader(val_data, batch_size=100, shuffle=False)\n",
    "\n",
    "# Test\n",
    "# test loader, we use the same dataset as for val (for now); no values here\n",
    "test_fps = torch.Tensor(x_test.astype(np.float32))\n",
    "test_values = torch.Tensor(y_test.astype(np.float32))\n",
    "test_loader = data_utils.DataLoader(test_fps, batch_size=100, shuffle=False)\n",
    "# for i in train_loader:\n",
    "#     print(i[0].shape)\n",
    "#     print(i[0].dtype)\n",
    "#     print(i[1].shape)\n",
    "#     print(i[1].dtype)\n",
    "#     break"
   ]
  },
  {
   "cell_type": "code",
   "execution_count": 10,
   "metadata": {},
   "outputs": [],
   "source": [
    "import torch, torch.nn as nn\n",
    "import torch.utils.data as data\n",
    "import torch.nn.functional as F\n",
    "import lightning as L\n",
    "\n",
    "# --------------------------------\n",
    "# Define a LightningModule by subclassing LightningModule\n",
    "# A LightningModule is a subclass of nn.Module\n",
    "\n",
    "\n",
    "class LitImageRegressor(L.LightningModule):\n",
    "    def __init__(self):\n",
    "        # -- Define your NN\n",
    "        super().__init__()\n",
    "\n",
    "        # in_channels, out_channels, kernel_size, stride\n",
    "        # (50000, 32, 32, 3)\n",
    "        self.conv1 = nn.Conv2d(32, 64, kernel_size=(3, 3), stride=1, padding=1)\n",
    "        self.act1 = nn.ReLU()\n",
    "        self.drop1 = nn.Dropout(0.4)\n",
    "\n",
    "        self.conv2 = nn.Conv2d(64, 128, kernel_size=(3, 3), stride=1, padding=1)\n",
    "        self.act2 = nn.ReLU()\n",
    "        self.pool2 = nn.MaxPool2d(kernel_size=(2, 2))\n",
    "\n",
    "        self.flat = nn.Flatten()\n",
    "\n",
    "        self.fc3 = nn.Linear(2048, 300)\n",
    "        self.act3 = nn.ReLU()\n",
    "        self.drop3 = nn.Dropout(0.5)\n",
    "\n",
    "        self.fc4 = nn.Linear(300, 100)\n",
    "        self.act4 = nn.ReLU()\n",
    "        self.drop4 = nn.Dropout(0.5)\n",
    "\n",
    "        self.fc5 = nn.Linear(100, 1)\n",
    "\n",
    "    def forward(self, x):\n",
    "        # -- Define how to go forward through your NN\n",
    "        # call the conv bloc\n",
    "        x = self.act1(self.conv1(x))\n",
    "        x = self.drop1(x)\n",
    "\n",
    "        x = self.act2(self.conv2(x))\n",
    "\n",
    "        x = self.pool2(x)\n",
    "\n",
    "        x = self.flat(x)\n",
    "\n",
    "        x = self.act3(self.fc3(x))\n",
    "        x = self.drop3(x)\n",
    "\n",
    "        x = self.act4(self.fc4(x))\n",
    "        x = self.drop4(x)\n",
    "\n",
    "        x = self.fc5(x)\n",
    "        return x\n",
    "\n",
    "    def training_step(self, batch, batch_idx):\n",
    "        # -- Define how to do a training step\n",
    "        # Split to input and output as you defined it in your dataloader\n",
    "        x, y = batch\n",
    "        # fog forward and get prediction\n",
    "        x = self.forward(x)\n",
    "        # compute loss\n",
    "        y = y.view(x.size(0), -1)\n",
    "        loss = F.mse_loss(y, x)\n",
    "        # log the loss (for plotting later)\n",
    "        self.log(\"train_loss\", loss, prog_bar=True)\n",
    "\n",
    "        return loss\n",
    "\n",
    "    def validation_step(self, batch, batch_idx):\n",
    "        # -- Define how to do a validation step (similar to raining)\n",
    "        x, y = batch\n",
    "        x = self.forward(x)\n",
    "        y = y.view(x.size(0), -1)\n",
    "        loss = F.mse_loss(x, y)\n",
    "        self.log(\"val_loss\", loss, prog_bar=True)\n",
    "        return loss\n",
    "\n",
    "    def configure_optimizers(self):\n",
    "        # Define the optimize that you want to use\n",
    "        optimizer = torch.optim.Adam(self.parameters(), lr=1e-3)\n",
    "        return optimizer"
   ]
  },
  {
   "cell_type": "markdown",
   "metadata": {},
   "source": [
    "# Train"
   ]
  },
  {
   "cell_type": "code",
   "execution_count": 11,
   "metadata": {},
   "outputs": [
    {
     "name": "stderr",
     "output_type": "stream",
     "text": [
      "Trainer will use only 1 of 4 GPUs because it is running inside an interactive / notebook environment. You may try to set `Trainer(devices=4)` but please note that multi-GPU inside interactive / notebook environments is considered experimental and unstable. Your mileage may vary.\n",
      "Trainer already configured with model summary callbacks: [<class 'lightning.pytorch.callbacks.model_summary.ModelSummary'>]. Skipping setting a default `ModelSummary` callback.\n"
     ]
    },
    {
     "name": "stderr",
     "output_type": "stream",
     "text": [
      "GPU available: True (cuda), used: True\n",
      "TPU available: False, using: 0 TPU cores\n",
      "IPU available: False, using: 0 IPUs\n",
      "HPU available: False, using: 0 HPUs\n",
      "`Trainer(val_check_interval=1)` was configured so validation will run after every batch.\n",
      "LOCAL_RANK: 0 - CUDA_VISIBLE_DEVICES: [0,1,2,3]\n",
      "\n",
      "   | Name  | Type      | Params\n",
      "-------------------------------------\n",
      "0  | conv1 | Conv2d    | 18.5 K\n",
      "1  | act1  | ReLU      | 0     \n",
      "2  | drop1 | Dropout   | 0     \n",
      "3  | conv2 | Conv2d    | 73.9 K\n",
      "4  | act2  | ReLU      | 0     \n",
      "5  | pool2 | MaxPool2d | 0     \n",
      "6  | flat  | Flatten   | 0     \n",
      "7  | fc3   | Linear    | 614 K \n",
      "8  | act3  | ReLU      | 0     \n",
      "9  | drop3 | Dropout   | 0     \n",
      "10 | fc4   | Linear    | 30.1 K\n",
      "11 | act4  | ReLU      | 0     \n",
      "12 | drop4 | Dropout   | 0     \n",
      "13 | fc5   | Linear    | 101   \n",
      "-------------------------------------\n",
      "737 K     Trainable params\n",
      "0         Non-trainable params\n",
      "737 K     Total params\n",
      "2.949     Total estimated model params size (MB)\n"
     ]
    },
    {
     "name": "stdout",
     "output_type": "stream",
     "text": [
      "                                                                            "
     ]
    },
    {
     "name": "stderr",
     "output_type": "stream",
     "text": [
      "/home/chris/courses/colab_tutorials/.venv/lib/python3.10/site-packages/lightning/pytorch/trainer/connectors/data_connector.py:441: The 'train_dataloader' does not have many workers which may be a bottleneck. Consider increasing the value of the `num_workers` argument` to `num_workers=191` in the `DataLoader` to improve performance.\n"
     ]
    },
    {
     "name": "stdout",
     "output_type": "stream",
     "text": [
      "Epoch 0: 100%|██████████| 50/50 [00:02<00:00, 23.83it/s, v_num=3, train_loss=1.19e+3, val_loss=1.5e+3] "
     ]
    },
    {
     "name": "stderr",
     "output_type": "stream",
     "text": [
      "Epoch 0, global step 50: 'val_loss' reached 1499.59497 (best 1499.59497), saving model to '/home/chris/courses/colab_tutorials/lecture_hackathon2/my_model/epoch=0-step=50.ckpt' as top 1\n"
     ]
    },
    {
     "name": "stdout",
     "output_type": "stream",
     "text": [
      "Epoch 1: 100%|██████████| 50/50 [00:02<00:00, 22.10it/s, v_num=3, train_loss=1.1e+3, val_loss=1.56e+3] "
     ]
    },
    {
     "name": "stderr",
     "output_type": "stream",
     "text": [
      "Epoch 1, global step 100: 'val_loss' was not in top 1\n"
     ]
    },
    {
     "name": "stdout",
     "output_type": "stream",
     "text": [
      "Epoch 2: 100%|██████████| 50/50 [00:02<00:00, 20.11it/s, v_num=3, train_loss=1.18e+3, val_loss=1.52e+3]"
     ]
    },
    {
     "name": "stderr",
     "output_type": "stream",
     "text": [
      "Epoch 2, global step 150: 'val_loss' was not in top 1\n"
     ]
    },
    {
     "name": "stdout",
     "output_type": "stream",
     "text": [
      "Epoch 3: 100%|██████████| 50/50 [00:02<00:00, 20.09it/s, v_num=3, train_loss=1.28e+3, val_loss=1.49e+3]"
     ]
    },
    {
     "name": "stderr",
     "output_type": "stream",
     "text": [
      "Epoch 3, global step 200: 'val_loss' reached 1486.03552 (best 1486.03552), saving model to '/home/chris/courses/colab_tutorials/lecture_hackathon2/my_model/epoch=3-step=200.ckpt' as top 1\n"
     ]
    },
    {
     "name": "stdout",
     "output_type": "stream",
     "text": [
      "Epoch 4: 100%|██████████| 50/50 [00:02<00:00, 20.04it/s, v_num=3, train_loss=1.21e+3, val_loss=1.7e+3] "
     ]
    },
    {
     "name": "stderr",
     "output_type": "stream",
     "text": [
      "Epoch 4, global step 250: 'val_loss' was not in top 1\n"
     ]
    },
    {
     "name": "stdout",
     "output_type": "stream",
     "text": [
      "Epoch 5: 100%|██████████| 50/50 [00:02<00:00, 20.10it/s, v_num=3, train_loss=1.09e+3, val_loss=1.44e+3]"
     ]
    },
    {
     "name": "stderr",
     "output_type": "stream",
     "text": [
      "Epoch 5, global step 300: 'val_loss' reached 1435.90063 (best 1435.90063), saving model to '/home/chris/courses/colab_tutorials/lecture_hackathon2/my_model/epoch=5-step=300.ckpt' as top 1\n"
     ]
    },
    {
     "name": "stdout",
     "output_type": "stream",
     "text": [
      "Epoch 6: 100%|██████████| 50/50 [00:02<00:00, 20.04it/s, v_num=3, train_loss=1.11e+3, val_loss=1.42e+3]"
     ]
    },
    {
     "name": "stderr",
     "output_type": "stream",
     "text": [
      "Epoch 6, global step 350: 'val_loss' reached 1419.37915 (best 1419.37915), saving model to '/home/chris/courses/colab_tutorials/lecture_hackathon2/my_model/epoch=6-step=350.ckpt' as top 1\n"
     ]
    },
    {
     "name": "stdout",
     "output_type": "stream",
     "text": [
      "Epoch 7: 100%|██████████| 50/50 [00:02<00:00, 20.05it/s, v_num=3, train_loss=1.08e+3, val_loss=1.47e+3]"
     ]
    },
    {
     "name": "stderr",
     "output_type": "stream",
     "text": [
      "Epoch 7, global step 400: 'val_loss' was not in top 1\n"
     ]
    },
    {
     "name": "stdout",
     "output_type": "stream",
     "text": [
      "Epoch 8: 100%|██████████| 50/50 [00:02<00:00, 19.97it/s, v_num=3, train_loss=1.02e+3, val_loss=1.41e+3]"
     ]
    },
    {
     "name": "stderr",
     "output_type": "stream",
     "text": [
      "Epoch 8, global step 450: 'val_loss' reached 1413.09729 (best 1413.09729), saving model to '/home/chris/courses/colab_tutorials/lecture_hackathon2/my_model/epoch=8-step=450.ckpt' as top 1\n"
     ]
    },
    {
     "name": "stdout",
     "output_type": "stream",
     "text": [
      "Epoch 9: 100%|██████████| 50/50 [00:02<00:00, 19.91it/s, v_num=3, train_loss=1.12e+3, val_loss=1.5e+3] "
     ]
    },
    {
     "name": "stderr",
     "output_type": "stream",
     "text": [
      "Epoch 9, global step 500: 'val_loss' was not in top 1\n"
     ]
    },
    {
     "name": "stdout",
     "output_type": "stream",
     "text": [
      "Epoch 10: 100%|██████████| 50/50 [00:02<00:00, 20.01it/s, v_num=3, train_loss=1e+3, val_loss=1.47e+3]   "
     ]
    },
    {
     "name": "stderr",
     "output_type": "stream",
     "text": [
      "Epoch 10, global step 550: 'val_loss' was not in top 1\n"
     ]
    },
    {
     "name": "stdout",
     "output_type": "stream",
     "text": [
      "Epoch 11: 100%|██████████| 50/50 [00:02<00:00, 20.06it/s, v_num=3, train_loss=1.1e+3, val_loss=1.51e+3] "
     ]
    },
    {
     "name": "stderr",
     "output_type": "stream",
     "text": [
      "Epoch 11, global step 600: 'val_loss' was not in top 1\n"
     ]
    },
    {
     "name": "stdout",
     "output_type": "stream",
     "text": [
      "Epoch 12: 100%|██████████| 50/50 [00:02<00:00, 19.90it/s, v_num=3, train_loss=1.05e+3, val_loss=1.61e+3]"
     ]
    },
    {
     "name": "stderr",
     "output_type": "stream",
     "text": [
      "Epoch 12, global step 650: 'val_loss' was not in top 1\n"
     ]
    },
    {
     "name": "stdout",
     "output_type": "stream",
     "text": [
      "Epoch 13: 100%|██████████| 50/50 [00:02<00:00, 20.09it/s, v_num=3, train_loss=1.12e+3, val_loss=1.41e+3]"
     ]
    },
    {
     "name": "stderr",
     "output_type": "stream",
     "text": [
      "Epoch 13, global step 700: 'val_loss' reached 1409.50745 (best 1409.50745), saving model to '/home/chris/courses/colab_tutorials/lecture_hackathon2/my_model/epoch=13-step=700.ckpt' as top 1\n"
     ]
    },
    {
     "name": "stdout",
     "output_type": "stream",
     "text": [
      "Epoch 14: 100%|██████████| 50/50 [00:02<00:00, 19.94it/s, v_num=3, train_loss=1.15e+3, val_loss=1.4e+3] "
     ]
    },
    {
     "name": "stderr",
     "output_type": "stream",
     "text": [
      "Epoch 14, global step 750: 'val_loss' reached 1396.52625 (best 1396.52625), saving model to '/home/chris/courses/colab_tutorials/lecture_hackathon2/my_model/epoch=14-step=750.ckpt' as top 1\n"
     ]
    },
    {
     "name": "stdout",
     "output_type": "stream",
     "text": [
      "Epoch 15: 100%|██████████| 50/50 [00:02<00:00, 19.31it/s, v_num=3, train_loss=1.02e+3, val_loss=1.36e+3]"
     ]
    },
    {
     "name": "stderr",
     "output_type": "stream",
     "text": [
      "Epoch 15, global step 800: 'val_loss' reached 1360.80383 (best 1360.80383), saving model to '/home/chris/courses/colab_tutorials/lecture_hackathon2/my_model/epoch=15-step=800.ckpt' as top 1\n"
     ]
    },
    {
     "name": "stdout",
     "output_type": "stream",
     "text": [
      "Epoch 16: 100%|██████████| 50/50 [00:02<00:00, 19.42it/s, v_num=3, train_loss=1.05e+3, val_loss=1.39e+3]"
     ]
    },
    {
     "name": "stderr",
     "output_type": "stream",
     "text": [
      "Epoch 16, global step 850: 'val_loss' was not in top 1\n"
     ]
    },
    {
     "name": "stdout",
     "output_type": "stream",
     "text": [
      "Epoch 17: 100%|██████████| 50/50 [00:02<00:00, 19.34it/s, v_num=3, train_loss=1.04e+3, val_loss=1.4e+3] "
     ]
    },
    {
     "name": "stderr",
     "output_type": "stream",
     "text": [
      "Epoch 17, global step 900: 'val_loss' was not in top 1\n"
     ]
    },
    {
     "name": "stdout",
     "output_type": "stream",
     "text": [
      "Epoch 18: 100%|██████████| 50/50 [00:02<00:00, 18.95it/s, v_num=3, train_loss=1.02e+3, val_loss=1.62e+3]"
     ]
    },
    {
     "name": "stderr",
     "output_type": "stream",
     "text": [
      "Epoch 18, global step 950: 'val_loss' was not in top 1\n"
     ]
    },
    {
     "name": "stdout",
     "output_type": "stream",
     "text": [
      "Epoch 19: 100%|██████████| 50/50 [00:02<00:00, 19.41it/s, v_num=3, train_loss=1.01e+3, val_loss=1.56e+3]"
     ]
    },
    {
     "name": "stderr",
     "output_type": "stream",
     "text": [
      "Epoch 19, global step 1000: 'val_loss' was not in top 1\n"
     ]
    },
    {
     "name": "stdout",
     "output_type": "stream",
     "text": [
      "Epoch 20: 100%|██████████| 50/50 [00:02<00:00, 19.23it/s, v_num=3, train_loss=981.0, val_loss=1.54e+3]  "
     ]
    },
    {
     "name": "stderr",
     "output_type": "stream",
     "text": [
      "Epoch 20, global step 1050: 'val_loss' was not in top 1\n"
     ]
    },
    {
     "name": "stdout",
     "output_type": "stream",
     "text": [
      "Epoch 21: 100%|██████████| 50/50 [00:02<00:00, 19.35it/s, v_num=3, train_loss=892.0, val_loss=1.34e+3]  "
     ]
    },
    {
     "name": "stderr",
     "output_type": "stream",
     "text": [
      "Epoch 21, global step 1100: 'val_loss' reached 1343.79822 (best 1343.79822), saving model to '/home/chris/courses/colab_tutorials/lecture_hackathon2/my_model/epoch=21-step=1100.ckpt' as top 1\n"
     ]
    },
    {
     "name": "stdout",
     "output_type": "stream",
     "text": [
      "Epoch 22: 100%|██████████| 50/50 [00:02<00:00, 19.88it/s, v_num=3, train_loss=942.0, val_loss=1.54e+3]  "
     ]
    },
    {
     "name": "stderr",
     "output_type": "stream",
     "text": [
      "Epoch 22, global step 1150: 'val_loss' was not in top 1\n"
     ]
    },
    {
     "name": "stdout",
     "output_type": "stream",
     "text": [
      "Epoch 23: 100%|██████████| 50/50 [00:01<00:00, 27.95it/s, v_num=3, train_loss=1e+3, val_loss=1.48e+3]   "
     ]
    },
    {
     "name": "stderr",
     "output_type": "stream",
     "text": [
      "Epoch 23, global step 1200: 'val_loss' was not in top 1\n"
     ]
    },
    {
     "name": "stdout",
     "output_type": "stream",
     "text": [
      "Epoch 24: 100%|██████████| 50/50 [00:01<00:00, 28.87it/s, v_num=3, train_loss=1.17e+3, val_loss=1.28e+3]"
     ]
    },
    {
     "name": "stderr",
     "output_type": "stream",
     "text": [
      "Epoch 24, global step 1250: 'val_loss' reached 1284.93201 (best 1284.93201), saving model to '/home/chris/courses/colab_tutorials/lecture_hackathon2/my_model/epoch=24-step=1250.ckpt' as top 1\n"
     ]
    },
    {
     "name": "stdout",
     "output_type": "stream",
     "text": [
      "Epoch 25: 100%|██████████| 50/50 [00:01<00:00, 28.87it/s, v_num=3, train_loss=975.0, val_loss=1.3e+3]   "
     ]
    },
    {
     "name": "stderr",
     "output_type": "stream",
     "text": [
      "Epoch 25, global step 1300: 'val_loss' was not in top 1\n"
     ]
    },
    {
     "name": "stdout",
     "output_type": "stream",
     "text": [
      "Epoch 26: 100%|██████████| 50/50 [00:01<00:00, 29.28it/s, v_num=3, train_loss=978.0, val_loss=1.51e+3]  "
     ]
    },
    {
     "name": "stderr",
     "output_type": "stream",
     "text": [
      "Epoch 26, global step 1350: 'val_loss' was not in top 1\n"
     ]
    },
    {
     "name": "stdout",
     "output_type": "stream",
     "text": [
      "Epoch 27: 100%|██████████| 50/50 [00:01<00:00, 30.32it/s, v_num=3, train_loss=932.0, val_loss=1.57e+3]  "
     ]
    },
    {
     "name": "stderr",
     "output_type": "stream",
     "text": [
      "Epoch 27, global step 1400: 'val_loss' was not in top 1\n"
     ]
    },
    {
     "name": "stdout",
     "output_type": "stream",
     "text": [
      "Epoch 28: 100%|██████████| 50/50 [00:01<00:00, 29.18it/s, v_num=3, train_loss=1.05e+3, val_loss=1.53e+3]"
     ]
    },
    {
     "name": "stderr",
     "output_type": "stream",
     "text": [
      "Epoch 28, global step 1450: 'val_loss' was not in top 1\n"
     ]
    },
    {
     "name": "stdout",
     "output_type": "stream",
     "text": [
      "Epoch 29: 100%|██████████| 50/50 [00:01<00:00, 28.60it/s, v_num=3, train_loss=1.05e+3, val_loss=1.35e+3]"
     ]
    },
    {
     "name": "stderr",
     "output_type": "stream",
     "text": [
      "Epoch 29, global step 1500: 'val_loss' was not in top 1\n"
     ]
    },
    {
     "name": "stdout",
     "output_type": "stream",
     "text": [
      "Epoch 30: 100%|██████████| 50/50 [00:01<00:00, 28.56it/s, v_num=3, train_loss=1e+3, val_loss=1.21e+3]   "
     ]
    },
    {
     "name": "stderr",
     "output_type": "stream",
     "text": [
      "Epoch 30, global step 1550: 'val_loss' reached 1207.15674 (best 1207.15674), saving model to '/home/chris/courses/colab_tutorials/lecture_hackathon2/my_model/epoch=30-step=1550.ckpt' as top 1\n"
     ]
    },
    {
     "name": "stdout",
     "output_type": "stream",
     "text": [
      "Epoch 31: 100%|██████████| 50/50 [00:01<00:00, 28.53it/s, v_num=3, train_loss=826.0, val_loss=1.18e+3]  "
     ]
    },
    {
     "name": "stderr",
     "output_type": "stream",
     "text": [
      "Epoch 31, global step 1600: 'val_loss' reached 1179.09265 (best 1179.09265), saving model to '/home/chris/courses/colab_tutorials/lecture_hackathon2/my_model/epoch=31-step=1600.ckpt' as top 1\n"
     ]
    },
    {
     "name": "stdout",
     "output_type": "stream",
     "text": [
      "Epoch 32: 100%|██████████| 50/50 [00:01<00:00, 28.52it/s, v_num=3, train_loss=940.0, val_loss=1.16e+3]  "
     ]
    },
    {
     "name": "stderr",
     "output_type": "stream",
     "text": [
      "Epoch 32, global step 1650: 'val_loss' reached 1158.57227 (best 1158.57227), saving model to '/home/chris/courses/colab_tutorials/lecture_hackathon2/my_model/epoch=32-step=1650.ckpt' as top 1\n"
     ]
    },
    {
     "name": "stdout",
     "output_type": "stream",
     "text": [
      "Epoch 33: 100%|██████████| 50/50 [00:01<00:00, 28.57it/s, v_num=3, train_loss=757.0, val_loss=1.21e+3]  "
     ]
    },
    {
     "name": "stderr",
     "output_type": "stream",
     "text": [
      "Epoch 33, global step 1700: 'val_loss' was not in top 1\n"
     ]
    },
    {
     "name": "stdout",
     "output_type": "stream",
     "text": [
      "Epoch 34: 100%|██████████| 50/50 [00:01<00:00, 28.72it/s, v_num=3, train_loss=884.0, val_loss=942.0]    "
     ]
    },
    {
     "name": "stderr",
     "output_type": "stream",
     "text": [
      "Epoch 34, global step 1750: 'val_loss' reached 942.21973 (best 942.21973), saving model to '/home/chris/courses/colab_tutorials/lecture_hackathon2/my_model/epoch=34-step=1750.ckpt' as top 1\n"
     ]
    },
    {
     "name": "stdout",
     "output_type": "stream",
     "text": [
      "Epoch 35: 100%|██████████| 50/50 [00:01<00:00, 28.83it/s, v_num=3, train_loss=954.0, val_loss=907.0]  "
     ]
    },
    {
     "name": "stderr",
     "output_type": "stream",
     "text": [
      "Epoch 35, global step 1800: 'val_loss' reached 907.04352 (best 907.04352), saving model to '/home/chris/courses/colab_tutorials/lecture_hackathon2/my_model/epoch=35-step=1800.ckpt' as top 1\n"
     ]
    },
    {
     "name": "stdout",
     "output_type": "stream",
     "text": [
      "Epoch 36: 100%|██████████| 50/50 [00:01<00:00, 28.61it/s, v_num=3, train_loss=973.0, val_loss=902.0]  "
     ]
    },
    {
     "name": "stderr",
     "output_type": "stream",
     "text": [
      "Epoch 36, global step 1850: 'val_loss' reached 902.24652 (best 902.24652), saving model to '/home/chris/courses/colab_tutorials/lecture_hackathon2/my_model/epoch=36-step=1850.ckpt' as top 1\n"
     ]
    },
    {
     "name": "stdout",
     "output_type": "stream",
     "text": [
      "Epoch 37: 100%|██████████| 50/50 [00:01<00:00, 28.69it/s, v_num=3, train_loss=886.0, val_loss=912.0]  "
     ]
    },
    {
     "name": "stderr",
     "output_type": "stream",
     "text": [
      "Epoch 37, global step 1900: 'val_loss' was not in top 1\n"
     ]
    },
    {
     "name": "stdout",
     "output_type": "stream",
     "text": [
      "Epoch 38: 100%|██████████| 50/50 [00:01<00:00, 27.75it/s, v_num=3, train_loss=835.0, val_loss=904.0]  "
     ]
    },
    {
     "name": "stderr",
     "output_type": "stream",
     "text": [
      "Epoch 38, global step 1950: 'val_loss' was not in top 1\n"
     ]
    },
    {
     "name": "stdout",
     "output_type": "stream",
     "text": [
      "Epoch 39: 100%|██████████| 50/50 [00:02<00:00, 24.41it/s, v_num=3, train_loss=902.0, val_loss=968.0]  "
     ]
    },
    {
     "name": "stderr",
     "output_type": "stream",
     "text": [
      "Epoch 39, global step 2000: 'val_loss' was not in top 1\n"
     ]
    },
    {
     "name": "stdout",
     "output_type": "stream",
     "text": [
      "Epoch 40: 100%|██████████| 50/50 [00:01<00:00, 28.80it/s, v_num=3, train_loss=909.0, val_loss=916.0]  "
     ]
    },
    {
     "name": "stderr",
     "output_type": "stream",
     "text": [
      "Epoch 40, global step 2050: 'val_loss' was not in top 1\n"
     ]
    },
    {
     "name": "stdout",
     "output_type": "stream",
     "text": [
      "Epoch 41: 100%|██████████| 50/50 [00:01<00:00, 27.27it/s, v_num=3, train_loss=867.0, val_loss=923.0]  "
     ]
    },
    {
     "name": "stderr",
     "output_type": "stream",
     "text": [
      "Epoch 41, global step 2100: 'val_loss' was not in top 1\n"
     ]
    },
    {
     "name": "stdout",
     "output_type": "stream",
     "text": [
      "Epoch 42: 100%|██████████| 50/50 [00:01<00:00, 28.93it/s, v_num=3, train_loss=917.0, val_loss=905.0]  "
     ]
    },
    {
     "name": "stderr",
     "output_type": "stream",
     "text": [
      "Epoch 42, global step 2150: 'val_loss' was not in top 1\n"
     ]
    },
    {
     "name": "stdout",
     "output_type": "stream",
     "text": [
      "Epoch 43: 100%|██████████| 50/50 [00:01<00:00, 28.84it/s, v_num=3, train_loss=868.0, val_loss=899.0] "
     ]
    },
    {
     "name": "stderr",
     "output_type": "stream",
     "text": [
      "Epoch 43, global step 2200: 'val_loss' reached 898.65350 (best 898.65350), saving model to '/home/chris/courses/colab_tutorials/lecture_hackathon2/my_model/epoch=43-step=2200.ckpt' as top 1\n"
     ]
    },
    {
     "name": "stdout",
     "output_type": "stream",
     "text": [
      "Epoch 44: 100%|██████████| 50/50 [00:01<00:00, 28.61it/s, v_num=3, train_loss=948.0, val_loss=901.0]"
     ]
    },
    {
     "name": "stderr",
     "output_type": "stream",
     "text": [
      "Epoch 44, global step 2250: 'val_loss' was not in top 1\n"
     ]
    },
    {
     "name": "stdout",
     "output_type": "stream",
     "text": [
      "Epoch 45: 100%|██████████| 50/50 [00:01<00:00, 28.68it/s, v_num=3, train_loss=692.0, val_loss=961.0]  "
     ]
    },
    {
     "name": "stderr",
     "output_type": "stream",
     "text": [
      "Epoch 45, global step 2300: 'val_loss' was not in top 1\n"
     ]
    },
    {
     "name": "stdout",
     "output_type": "stream",
     "text": [
      "Epoch 46: 100%|██████████| 50/50 [00:01<00:00, 28.73it/s, v_num=3, train_loss=931.0, val_loss=912.0]"
     ]
    },
    {
     "name": "stderr",
     "output_type": "stream",
     "text": [
      "Epoch 46, global step 2350: 'val_loss' was not in top 1\n"
     ]
    },
    {
     "name": "stdout",
     "output_type": "stream",
     "text": [
      "Epoch 47: 100%|██████████| 50/50 [00:01<00:00, 28.71it/s, v_num=3, train_loss=832.0, val_loss=934.0]  "
     ]
    },
    {
     "name": "stderr",
     "output_type": "stream",
     "text": [
      "Epoch 47, global step 2400: 'val_loss' was not in top 1\n"
     ]
    },
    {
     "name": "stdout",
     "output_type": "stream",
     "text": [
      "Epoch 48: 100%|██████████| 50/50 [00:01<00:00, 28.83it/s, v_num=3, train_loss=863.0, val_loss=942.0]"
     ]
    },
    {
     "name": "stderr",
     "output_type": "stream",
     "text": [
      "Epoch 48, global step 2450: 'val_loss' was not in top 1\n"
     ]
    },
    {
     "name": "stdout",
     "output_type": "stream",
     "text": [
      "Epoch 49: 100%|██████████| 50/50 [00:01<00:00, 28.77it/s, v_num=3, train_loss=870.0, val_loss=889.0]  "
     ]
    },
    {
     "name": "stderr",
     "output_type": "stream",
     "text": [
      "Epoch 49, global step 2500: 'val_loss' reached 889.04828 (best 889.04828), saving model to '/home/chris/courses/colab_tutorials/lecture_hackathon2/my_model/epoch=49-step=2500.ckpt' as top 1\n"
     ]
    },
    {
     "name": "stdout",
     "output_type": "stream",
     "text": [
      "Epoch 50: 100%|██████████| 50/50 [00:01<00:00, 28.75it/s, v_num=3, train_loss=889.0, val_loss=909.0]  "
     ]
    },
    {
     "name": "stderr",
     "output_type": "stream",
     "text": [
      "Epoch 50, global step 2550: 'val_loss' was not in top 1\n"
     ]
    },
    {
     "name": "stdout",
     "output_type": "stream",
     "text": [
      "Epoch 51: 100%|██████████| 50/50 [00:01<00:00, 28.91it/s, v_num=3, train_loss=758.0, val_loss=905.0]  "
     ]
    },
    {
     "name": "stderr",
     "output_type": "stream",
     "text": [
      "Epoch 51, global step 2600: 'val_loss' was not in top 1\n"
     ]
    },
    {
     "name": "stdout",
     "output_type": "stream",
     "text": [
      "Epoch 52: 100%|██████████| 50/50 [00:01<00:00, 28.69it/s, v_num=3, train_loss=889.0, val_loss=897.0]  "
     ]
    },
    {
     "name": "stderr",
     "output_type": "stream",
     "text": [
      "Epoch 52, global step 2650: 'val_loss' was not in top 1\n"
     ]
    },
    {
     "name": "stdout",
     "output_type": "stream",
     "text": [
      "Epoch 53: 100%|██████████| 50/50 [00:01<00:00, 28.65it/s, v_num=3, train_loss=796.0, val_loss=908.0]  "
     ]
    },
    {
     "name": "stderr",
     "output_type": "stream",
     "text": [
      "Epoch 53, global step 2700: 'val_loss' was not in top 1\n"
     ]
    },
    {
     "name": "stdout",
     "output_type": "stream",
     "text": [
      "Epoch 54: 100%|██████████| 50/50 [00:01<00:00, 28.78it/s, v_num=3, train_loss=792.0, val_loss=893.0]  "
     ]
    },
    {
     "name": "stderr",
     "output_type": "stream",
     "text": [
      "Epoch 54, global step 2750: 'val_loss' was not in top 1\n"
     ]
    },
    {
     "name": "stdout",
     "output_type": "stream",
     "text": [
      "Epoch 55: 100%|██████████| 50/50 [00:01<00:00, 28.97it/s, v_num=3, train_loss=864.0, val_loss=912.0]  "
     ]
    },
    {
     "name": "stderr",
     "output_type": "stream",
     "text": [
      "Epoch 55, global step 2800: 'val_loss' was not in top 1\n"
     ]
    },
    {
     "name": "stdout",
     "output_type": "stream",
     "text": [
      "Epoch 56: 100%|██████████| 50/50 [00:01<00:00, 28.74it/s, v_num=3, train_loss=905.0, val_loss=924.0]  "
     ]
    },
    {
     "name": "stderr",
     "output_type": "stream",
     "text": [
      "Epoch 56, global step 2850: 'val_loss' was not in top 1\n"
     ]
    },
    {
     "name": "stdout",
     "output_type": "stream",
     "text": [
      "Epoch 57: 100%|██████████| 50/50 [00:01<00:00, 28.86it/s, v_num=3, train_loss=847.0, val_loss=918.0]  "
     ]
    },
    {
     "name": "stderr",
     "output_type": "stream",
     "text": [
      "Epoch 57, global step 2900: 'val_loss' was not in top 1\n"
     ]
    },
    {
     "name": "stdout",
     "output_type": "stream",
     "text": [
      "Epoch 58: 100%|██████████| 50/50 [00:01<00:00, 28.27it/s, v_num=3, train_loss=742.0, val_loss=909.0]  "
     ]
    },
    {
     "name": "stderr",
     "output_type": "stream",
     "text": [
      "Epoch 58, global step 2950: 'val_loss' was not in top 1\n"
     ]
    },
    {
     "name": "stdout",
     "output_type": "stream",
     "text": [
      "Epoch 59: 100%|██████████| 50/50 [00:01<00:00, 28.86it/s, v_num=3, train_loss=814.0, val_loss=902.0]  "
     ]
    },
    {
     "name": "stderr",
     "output_type": "stream",
     "text": [
      "Epoch 59, global step 3000: 'val_loss' was not in top 1\n"
     ]
    },
    {
     "name": "stdout",
     "output_type": "stream",
     "text": [
      "Epoch 60: 100%|██████████| 50/50 [00:01<00:00, 28.78it/s, v_num=3, train_loss=825.0, val_loss=918.0]  "
     ]
    },
    {
     "name": "stderr",
     "output_type": "stream",
     "text": [
      "Epoch 60, global step 3050: 'val_loss' was not in top 1\n"
     ]
    },
    {
     "name": "stdout",
     "output_type": "stream",
     "text": [
      "Epoch 61: 100%|██████████| 50/50 [00:01<00:00, 28.83it/s, v_num=3, train_loss=825.0, val_loss=904.0]  "
     ]
    },
    {
     "name": "stderr",
     "output_type": "stream",
     "text": [
      "Epoch 61, global step 3100: 'val_loss' was not in top 1\n"
     ]
    },
    {
     "name": "stdout",
     "output_type": "stream",
     "text": [
      "Epoch 62: 100%|██████████| 50/50 [00:01<00:00, 28.84it/s, v_num=3, train_loss=952.0, val_loss=929.0]  "
     ]
    },
    {
     "name": "stderr",
     "output_type": "stream",
     "text": [
      "Epoch 62, global step 3150: 'val_loss' was not in top 1\n"
     ]
    },
    {
     "name": "stdout",
     "output_type": "stream",
     "text": [
      "Epoch 63: 100%|██████████| 50/50 [00:01<00:00, 28.34it/s, v_num=3, train_loss=839.0, val_loss=906.0]"
     ]
    },
    {
     "name": "stderr",
     "output_type": "stream",
     "text": [
      "Epoch 63, global step 3200: 'val_loss' was not in top 1\n"
     ]
    },
    {
     "name": "stdout",
     "output_type": "stream",
     "text": [
      "Epoch 64: 100%|██████████| 50/50 [00:01<00:00, 28.34it/s, v_num=3, train_loss=918.0, val_loss=901.0]  "
     ]
    },
    {
     "name": "stderr",
     "output_type": "stream",
     "text": [
      "Epoch 64, global step 3250: 'val_loss' was not in top 1\n"
     ]
    },
    {
     "name": "stdout",
     "output_type": "stream",
     "text": [
      "Epoch 65: 100%|██████████| 50/50 [00:01<00:00, 28.46it/s, v_num=3, train_loss=881.0, val_loss=895.0]"
     ]
    },
    {
     "name": "stderr",
     "output_type": "stream",
     "text": [
      "Epoch 65, global step 3300: 'val_loss' was not in top 1\n"
     ]
    },
    {
     "name": "stdout",
     "output_type": "stream",
     "text": [
      "Epoch 66: 100%|██████████| 50/50 [00:01<00:00, 28.40it/s, v_num=3, train_loss=815.0, val_loss=913.0]  "
     ]
    },
    {
     "name": "stderr",
     "output_type": "stream",
     "text": [
      "Epoch 66, global step 3350: 'val_loss' was not in top 1\n"
     ]
    },
    {
     "name": "stdout",
     "output_type": "stream",
     "text": [
      "Epoch 67: 100%|██████████| 50/50 [00:01<00:00, 28.53it/s, v_num=3, train_loss=807.0, val_loss=898.0]"
     ]
    },
    {
     "name": "stderr",
     "output_type": "stream",
     "text": [
      "Epoch 67, global step 3400: 'val_loss' was not in top 1\n"
     ]
    },
    {
     "name": "stdout",
     "output_type": "stream",
     "text": [
      "Epoch 68: 100%|██████████| 50/50 [00:01<00:00, 28.61it/s, v_num=3, train_loss=841.0, val_loss=881.0]"
     ]
    },
    {
     "name": "stderr",
     "output_type": "stream",
     "text": [
      "Epoch 68, global step 3450: 'val_loss' reached 880.52655 (best 880.52655), saving model to '/home/chris/courses/colab_tutorials/lecture_hackathon2/my_model/epoch=68-step=3450.ckpt' as top 1\n"
     ]
    },
    {
     "name": "stdout",
     "output_type": "stream",
     "text": [
      "Epoch 69: 100%|██████████| 50/50 [00:01<00:00, 28.47it/s, v_num=3, train_loss=795.0, val_loss=913.0]"
     ]
    },
    {
     "name": "stderr",
     "output_type": "stream",
     "text": [
      "Epoch 69, global step 3500: 'val_loss' was not in top 1\n"
     ]
    },
    {
     "name": "stdout",
     "output_type": "stream",
     "text": [
      "Epoch 70: 100%|██████████| 50/50 [00:01<00:00, 28.39it/s, v_num=3, train_loss=800.0, val_loss=899.0]  "
     ]
    },
    {
     "name": "stderr",
     "output_type": "stream",
     "text": [
      "Epoch 70, global step 3550: 'val_loss' was not in top 1\n"
     ]
    },
    {
     "name": "stdout",
     "output_type": "stream",
     "text": [
      "Epoch 71: 100%|██████████| 50/50 [00:01<00:00, 28.51it/s, v_num=3, train_loss=728.0, val_loss=918.0]  "
     ]
    },
    {
     "name": "stderr",
     "output_type": "stream",
     "text": [
      "Epoch 71, global step 3600: 'val_loss' was not in top 1\n"
     ]
    },
    {
     "name": "stdout",
     "output_type": "stream",
     "text": [
      "Epoch 72: 100%|██████████| 50/50 [00:01<00:00, 28.34it/s, v_num=3, train_loss=816.0, val_loss=920.0]  "
     ]
    },
    {
     "name": "stderr",
     "output_type": "stream",
     "text": [
      "Epoch 72, global step 3650: 'val_loss' was not in top 1\n"
     ]
    },
    {
     "name": "stdout",
     "output_type": "stream",
     "text": [
      "Epoch 73: 100%|██████████| 50/50 [00:01<00:00, 28.23it/s, v_num=3, train_loss=800.0, val_loss=879.0]  "
     ]
    },
    {
     "name": "stderr",
     "output_type": "stream",
     "text": [
      "Epoch 73, global step 3700: 'val_loss' reached 878.96606 (best 878.96606), saving model to '/home/chris/courses/colab_tutorials/lecture_hackathon2/my_model/epoch=73-step=3700.ckpt' as top 1\n"
     ]
    },
    {
     "name": "stdout",
     "output_type": "stream",
     "text": [
      "Epoch 74: 100%|██████████| 50/50 [00:01<00:00, 28.30it/s, v_num=3, train_loss=843.0, val_loss=917.0]  "
     ]
    },
    {
     "name": "stderr",
     "output_type": "stream",
     "text": [
      "Epoch 74, global step 3750: 'val_loss' was not in top 1\n"
     ]
    },
    {
     "name": "stdout",
     "output_type": "stream",
     "text": [
      "Epoch 75: 100%|██████████| 50/50 [00:01<00:00, 28.58it/s, v_num=3, train_loss=858.0, val_loss=924.0]"
     ]
    },
    {
     "name": "stderr",
     "output_type": "stream",
     "text": [
      "Epoch 75, global step 3800: 'val_loss' was not in top 1\n"
     ]
    },
    {
     "name": "stdout",
     "output_type": "stream",
     "text": [
      "Epoch 76: 100%|██████████| 50/50 [00:01<00:00, 28.35it/s, v_num=3, train_loss=899.0, val_loss=920.0]"
     ]
    },
    {
     "name": "stderr",
     "output_type": "stream",
     "text": [
      "Epoch 76, global step 3850: 'val_loss' was not in top 1\n"
     ]
    },
    {
     "name": "stdout",
     "output_type": "stream",
     "text": [
      "Epoch 77: 100%|██████████| 50/50 [00:01<00:00, 28.36it/s, v_num=3, train_loss=863.0, val_loss=907.0]  "
     ]
    },
    {
     "name": "stderr",
     "output_type": "stream",
     "text": [
      "Epoch 77, global step 3900: 'val_loss' was not in top 1\n"
     ]
    },
    {
     "name": "stdout",
     "output_type": "stream",
     "text": [
      "Epoch 78: 100%|██████████| 50/50 [00:01<00:00, 28.63it/s, v_num=3, train_loss=887.0, val_loss=920.0]  "
     ]
    },
    {
     "name": "stderr",
     "output_type": "stream",
     "text": [
      "Epoch 78, global step 3950: 'val_loss' was not in top 1\n"
     ]
    },
    {
     "name": "stdout",
     "output_type": "stream",
     "text": [
      "Epoch 79: 100%|██████████| 50/50 [00:01<00:00, 28.60it/s, v_num=3, train_loss=991.0, val_loss=924.0]  "
     ]
    },
    {
     "name": "stderr",
     "output_type": "stream",
     "text": [
      "Epoch 79, global step 4000: 'val_loss' was not in top 1\n"
     ]
    },
    {
     "name": "stdout",
     "output_type": "stream",
     "text": [
      "Epoch 80: 100%|██████████| 50/50 [00:01<00:00, 28.55it/s, v_num=3, train_loss=818.0, val_loss=897.0]  "
     ]
    },
    {
     "name": "stderr",
     "output_type": "stream",
     "text": [
      "Epoch 80, global step 4050: 'val_loss' was not in top 1\n"
     ]
    },
    {
     "name": "stdout",
     "output_type": "stream",
     "text": [
      "Epoch 81: 100%|██████████| 50/50 [00:01<00:00, 28.71it/s, v_num=3, train_loss=762.0, val_loss=922.0]"
     ]
    },
    {
     "name": "stderr",
     "output_type": "stream",
     "text": [
      "Epoch 81, global step 4100: 'val_loss' was not in top 1\n"
     ]
    },
    {
     "name": "stdout",
     "output_type": "stream",
     "text": [
      "Epoch 82: 100%|██████████| 50/50 [00:01<00:00, 28.57it/s, v_num=3, train_loss=765.0, val_loss=887.0]  "
     ]
    },
    {
     "name": "stderr",
     "output_type": "stream",
     "text": [
      "Epoch 82, global step 4150: 'val_loss' was not in top 1\n"
     ]
    },
    {
     "name": "stdout",
     "output_type": "stream",
     "text": [
      "Epoch 83: 100%|██████████| 50/50 [00:01<00:00, 28.59it/s, v_num=3, train_loss=778.0, val_loss=900.0]  "
     ]
    },
    {
     "name": "stderr",
     "output_type": "stream",
     "text": [
      "Epoch 83, global step 4200: 'val_loss' was not in top 1\n"
     ]
    },
    {
     "name": "stdout",
     "output_type": "stream",
     "text": [
      "Epoch 84: 100%|██████████| 50/50 [00:01<00:00, 28.59it/s, v_num=3, train_loss=860.0, val_loss=917.0]  "
     ]
    },
    {
     "name": "stderr",
     "output_type": "stream",
     "text": [
      "Epoch 84, global step 4250: 'val_loss' was not in top 1\n"
     ]
    },
    {
     "name": "stdout",
     "output_type": "stream",
     "text": [
      "Epoch 85: 100%|██████████| 50/50 [00:01<00:00, 28.61it/s, v_num=3, train_loss=796.0, val_loss=902.0]  "
     ]
    },
    {
     "name": "stderr",
     "output_type": "stream",
     "text": [
      "Epoch 85, global step 4300: 'val_loss' was not in top 1\n"
     ]
    },
    {
     "name": "stdout",
     "output_type": "stream",
     "text": [
      "Epoch 86: 100%|██████████| 50/50 [00:01<00:00, 28.68it/s, v_num=3, train_loss=892.0, val_loss=903.0]  "
     ]
    },
    {
     "name": "stderr",
     "output_type": "stream",
     "text": [
      "Epoch 86, global step 4350: 'val_loss' was not in top 1\n"
     ]
    },
    {
     "name": "stdout",
     "output_type": "stream",
     "text": [
      "Epoch 87: 100%|██████████| 50/50 [00:01<00:00, 28.56it/s, v_num=3, train_loss=767.0, val_loss=916.0]  "
     ]
    },
    {
     "name": "stderr",
     "output_type": "stream",
     "text": [
      "Epoch 87, global step 4400: 'val_loss' was not in top 1\n"
     ]
    },
    {
     "name": "stdout",
     "output_type": "stream",
     "text": [
      "Epoch 88: 100%|██████████| 50/50 [00:01<00:00, 28.64it/s, v_num=3, train_loss=739.0, val_loss=919.0]  "
     ]
    },
    {
     "name": "stderr",
     "output_type": "stream",
     "text": [
      "Epoch 88, global step 4450: 'val_loss' was not in top 1\n"
     ]
    },
    {
     "name": "stdout",
     "output_type": "stream",
     "text": [
      "Epoch 89: 100%|██████████| 50/50 [00:01<00:00, 28.74it/s, v_num=3, train_loss=837.0, val_loss=908.0]  "
     ]
    },
    {
     "name": "stderr",
     "output_type": "stream",
     "text": [
      "Epoch 89, global step 4500: 'val_loss' was not in top 1\n"
     ]
    },
    {
     "name": "stdout",
     "output_type": "stream",
     "text": [
      "Epoch 90: 100%|██████████| 50/50 [00:01<00:00, 28.88it/s, v_num=3, train_loss=853.0, val_loss=927.0]  "
     ]
    },
    {
     "name": "stderr",
     "output_type": "stream",
     "text": [
      "Epoch 90, global step 4550: 'val_loss' was not in top 1\n"
     ]
    },
    {
     "name": "stdout",
     "output_type": "stream",
     "text": [
      "Epoch 91: 100%|██████████| 50/50 [00:01<00:00, 28.91it/s, v_num=3, train_loss=842.0, val_loss=903.0]"
     ]
    },
    {
     "name": "stderr",
     "output_type": "stream",
     "text": [
      "Epoch 91, global step 4600: 'val_loss' was not in top 1\n"
     ]
    },
    {
     "name": "stdout",
     "output_type": "stream",
     "text": [
      "Epoch 92: 100%|██████████| 50/50 [00:01<00:00, 28.87it/s, v_num=3, train_loss=715.0, val_loss=906.0]"
     ]
    },
    {
     "name": "stderr",
     "output_type": "stream",
     "text": [
      "Epoch 92, global step 4650: 'val_loss' was not in top 1\n"
     ]
    },
    {
     "name": "stdout",
     "output_type": "stream",
     "text": [
      "Epoch 93: 100%|██████████| 50/50 [00:01<00:00, 28.78it/s, v_num=3, train_loss=829.0, val_loss=897.0] "
     ]
    },
    {
     "name": "stderr",
     "output_type": "stream",
     "text": [
      "Epoch 93, global step 4700: 'val_loss' was not in top 1\n"
     ]
    },
    {
     "name": "stdout",
     "output_type": "stream",
     "text": [
      "Epoch 94: 100%|██████████| 50/50 [00:01<00:00, 28.43it/s, v_num=3, train_loss=730.0, val_loss=909.0]  "
     ]
    },
    {
     "name": "stderr",
     "output_type": "stream",
     "text": [
      "Epoch 94, global step 4750: 'val_loss' was not in top 1\n"
     ]
    },
    {
     "name": "stdout",
     "output_type": "stream",
     "text": [
      "Epoch 95: 100%|██████████| 50/50 [00:01<00:00, 28.68it/s, v_num=3, train_loss=841.0, val_loss=935.0]"
     ]
    },
    {
     "name": "stderr",
     "output_type": "stream",
     "text": [
      "Epoch 95, global step 4800: 'val_loss' was not in top 1\n"
     ]
    },
    {
     "name": "stdout",
     "output_type": "stream",
     "text": [
      "Epoch 96: 100%|██████████| 50/50 [00:01<00:00, 28.65it/s, v_num=3, train_loss=659.0, val_loss=913.0]"
     ]
    },
    {
     "name": "stderr",
     "output_type": "stream",
     "text": [
      "Epoch 96, global step 4850: 'val_loss' was not in top 1\n"
     ]
    },
    {
     "name": "stdout",
     "output_type": "stream",
     "text": [
      "Epoch 97: 100%|██████████| 50/50 [00:01<00:00, 28.62it/s, v_num=3, train_loss=768.0, val_loss=903.0]"
     ]
    },
    {
     "name": "stderr",
     "output_type": "stream",
     "text": [
      "Epoch 97, global step 4900: 'val_loss' was not in top 1\n"
     ]
    },
    {
     "name": "stdout",
     "output_type": "stream",
     "text": [
      "Epoch 98: 100%|██████████| 50/50 [00:01<00:00, 28.68it/s, v_num=3, train_loss=665.0, val_loss=902.0]  "
     ]
    },
    {
     "name": "stderr",
     "output_type": "stream",
     "text": [
      "Epoch 98, global step 4950: 'val_loss' was not in top 1\n"
     ]
    },
    {
     "name": "stdout",
     "output_type": "stream",
     "text": [
      "Epoch 99: 100%|██████████| 50/50 [00:01<00:00, 28.74it/s, v_num=3, train_loss=805.0, val_loss=981.0]"
     ]
    },
    {
     "name": "stderr",
     "output_type": "stream",
     "text": [
      "Epoch 99, global step 5000: 'val_loss' was not in top 1\n"
     ]
    },
    {
     "name": "stdout",
     "output_type": "stream",
     "text": [
      "Epoch 100: 100%|██████████| 50/50 [00:01<00:00, 28.74it/s, v_num=3, train_loss=714.0, val_loss=927.0]"
     ]
    },
    {
     "name": "stderr",
     "output_type": "stream",
     "text": [
      "Epoch 100, global step 5050: 'val_loss' was not in top 1\n"
     ]
    },
    {
     "name": "stdout",
     "output_type": "stream",
     "text": [
      "Epoch 101: 100%|██████████| 50/50 [00:01<00:00, 28.78it/s, v_num=3, train_loss=794.0, val_loss=905.0]"
     ]
    },
    {
     "name": "stderr",
     "output_type": "stream",
     "text": [
      "Epoch 101, global step 5100: 'val_loss' was not in top 1\n"
     ]
    },
    {
     "name": "stdout",
     "output_type": "stream",
     "text": [
      "Epoch 102: 100%|██████████| 50/50 [00:01<00:00, 28.63it/s, v_num=3, train_loss=774.0, val_loss=893.0]"
     ]
    },
    {
     "name": "stderr",
     "output_type": "stream",
     "text": [
      "Epoch 102, global step 5150: 'val_loss' was not in top 1\n"
     ]
    },
    {
     "name": "stdout",
     "output_type": "stream",
     "text": [
      "Epoch 103: 100%|██████████| 50/50 [00:01<00:00, 28.58it/s, v_num=3, train_loss=744.0, val_loss=915.0]"
     ]
    },
    {
     "name": "stderr",
     "output_type": "stream",
     "text": [
      "Epoch 103, global step 5200: 'val_loss' was not in top 1\n"
     ]
    },
    {
     "name": "stdout",
     "output_type": "stream",
     "text": [
      "Epoch 104: 100%|██████████| 50/50 [00:01<00:00, 28.59it/s, v_num=3, train_loss=739.0, val_loss=924.0]"
     ]
    },
    {
     "name": "stderr",
     "output_type": "stream",
     "text": [
      "Epoch 104, global step 5250: 'val_loss' was not in top 1\n"
     ]
    },
    {
     "name": "stdout",
     "output_type": "stream",
     "text": [
      "Epoch 105: 100%|██████████| 50/50 [00:01<00:00, 28.30it/s, v_num=3, train_loss=857.0, val_loss=890.0]  "
     ]
    },
    {
     "name": "stderr",
     "output_type": "stream",
     "text": [
      "Epoch 105, global step 5300: 'val_loss' was not in top 1\n"
     ]
    },
    {
     "name": "stdout",
     "output_type": "stream",
     "text": [
      "Epoch 106: 100%|██████████| 50/50 [00:01<00:00, 28.63it/s, v_num=3, train_loss=721.0, val_loss=946.0]"
     ]
    },
    {
     "name": "stderr",
     "output_type": "stream",
     "text": [
      "Epoch 106, global step 5350: 'val_loss' was not in top 1\n"
     ]
    },
    {
     "name": "stdout",
     "output_type": "stream",
     "text": [
      "Epoch 107: 100%|██████████| 50/50 [00:01<00:00, 28.62it/s, v_num=3, train_loss=749.0, val_loss=951.0] "
     ]
    },
    {
     "name": "stderr",
     "output_type": "stream",
     "text": [
      "Epoch 107, global step 5400: 'val_loss' was not in top 1\n"
     ]
    },
    {
     "name": "stdout",
     "output_type": "stream",
     "text": [
      "Epoch 108: 100%|██████████| 50/50 [00:01<00:00, 28.68it/s, v_num=3, train_loss=655.0, val_loss=920.0]"
     ]
    },
    {
     "name": "stderr",
     "output_type": "stream",
     "text": [
      "Epoch 108, global step 5450: 'val_loss' was not in top 1\n"
     ]
    },
    {
     "name": "stdout",
     "output_type": "stream",
     "text": [
      "Epoch 109: 100%|██████████| 50/50 [00:01<00:00, 28.60it/s, v_num=3, train_loss=774.0, val_loss=897.0]  "
     ]
    },
    {
     "name": "stderr",
     "output_type": "stream",
     "text": [
      "Epoch 109, global step 5500: 'val_loss' was not in top 1\n"
     ]
    },
    {
     "name": "stdout",
     "output_type": "stream",
     "text": [
      "Epoch 110: 100%|██████████| 50/50 [00:01<00:00, 28.59it/s, v_num=3, train_loss=702.0, val_loss=886.0]"
     ]
    },
    {
     "name": "stderr",
     "output_type": "stream",
     "text": [
      "Epoch 110, global step 5550: 'val_loss' was not in top 1\n"
     ]
    },
    {
     "name": "stdout",
     "output_type": "stream",
     "text": [
      "Epoch 111: 100%|██████████| 50/50 [00:01<00:00, 28.52it/s, v_num=3, train_loss=717.0, val_loss=942.0]"
     ]
    },
    {
     "name": "stderr",
     "output_type": "stream",
     "text": [
      "Epoch 111, global step 5600: 'val_loss' was not in top 1\n"
     ]
    },
    {
     "name": "stdout",
     "output_type": "stream",
     "text": [
      "Epoch 112: 100%|██████████| 50/50 [00:01<00:00, 28.53it/s, v_num=3, train_loss=679.0, val_loss=894.0]"
     ]
    },
    {
     "name": "stderr",
     "output_type": "stream",
     "text": [
      "Epoch 112, global step 5650: 'val_loss' was not in top 1\n"
     ]
    },
    {
     "name": "stdout",
     "output_type": "stream",
     "text": [
      "Epoch 113: 100%|██████████| 50/50 [00:01<00:00, 28.57it/s, v_num=3, train_loss=717.0, val_loss=898.0]"
     ]
    },
    {
     "name": "stderr",
     "output_type": "stream",
     "text": [
      "Epoch 113, global step 5700: 'val_loss' was not in top 1\n"
     ]
    },
    {
     "name": "stdout",
     "output_type": "stream",
     "text": [
      "Epoch 114: 100%|██████████| 50/50 [00:01<00:00, 28.53it/s, v_num=3, train_loss=820.0, val_loss=966.0]"
     ]
    },
    {
     "name": "stderr",
     "output_type": "stream",
     "text": [
      "Epoch 114, global step 5750: 'val_loss' was not in top 1\n"
     ]
    },
    {
     "name": "stdout",
     "output_type": "stream",
     "text": [
      "Epoch 115: 100%|██████████| 50/50 [00:01<00:00, 28.62it/s, v_num=3, train_loss=797.0, val_loss=895.0]"
     ]
    },
    {
     "name": "stderr",
     "output_type": "stream",
     "text": [
      "Epoch 115, global step 5800: 'val_loss' was not in top 1\n"
     ]
    },
    {
     "name": "stdout",
     "output_type": "stream",
     "text": [
      "Epoch 116: 100%|██████████| 50/50 [00:01<00:00, 28.61it/s, v_num=3, train_loss=841.0, val_loss=902.0]"
     ]
    },
    {
     "name": "stderr",
     "output_type": "stream",
     "text": [
      "Epoch 116, global step 5850: 'val_loss' was not in top 1\n"
     ]
    },
    {
     "name": "stdout",
     "output_type": "stream",
     "text": [
      "Epoch 117: 100%|██████████| 50/50 [00:01<00:00, 28.83it/s, v_num=3, train_loss=746.0, val_loss=937.0]"
     ]
    },
    {
     "name": "stderr",
     "output_type": "stream",
     "text": [
      "Epoch 117, global step 5900: 'val_loss' was not in top 1\n"
     ]
    },
    {
     "name": "stdout",
     "output_type": "stream",
     "text": [
      "Epoch 118: 100%|██████████| 50/50 [00:01<00:00, 28.72it/s, v_num=3, train_loss=725.0, val_loss=968.0]"
     ]
    },
    {
     "name": "stderr",
     "output_type": "stream",
     "text": [
      "Epoch 118, global step 5950: 'val_loss' was not in top 1\n"
     ]
    },
    {
     "name": "stdout",
     "output_type": "stream",
     "text": [
      "Epoch 119: 100%|██████████| 50/50 [00:01<00:00, 28.69it/s, v_num=3, train_loss=658.0, val_loss=935.0]"
     ]
    },
    {
     "name": "stderr",
     "output_type": "stream",
     "text": [
      "Epoch 119, global step 6000: 'val_loss' was not in top 1\n"
     ]
    },
    {
     "name": "stdout",
     "output_type": "stream",
     "text": [
      "Epoch 120: 100%|██████████| 50/50 [00:01<00:00, 28.72it/s, v_num=3, train_loss=560.0, val_loss=926.0]"
     ]
    },
    {
     "name": "stderr",
     "output_type": "stream",
     "text": [
      "Epoch 120, global step 6050: 'val_loss' was not in top 1\n"
     ]
    },
    {
     "name": "stdout",
     "output_type": "stream",
     "text": [
      "Epoch 121: 100%|██████████| 50/50 [00:01<00:00, 28.72it/s, v_num=3, train_loss=754.0, val_loss=931.0]"
     ]
    },
    {
     "name": "stderr",
     "output_type": "stream",
     "text": [
      "Epoch 121, global step 6100: 'val_loss' was not in top 1\n"
     ]
    },
    {
     "name": "stdout",
     "output_type": "stream",
     "text": [
      "Epoch 122: 100%|██████████| 50/50 [00:01<00:00, 28.79it/s, v_num=3, train_loss=632.0, val_loss=917.0]"
     ]
    },
    {
     "name": "stderr",
     "output_type": "stream",
     "text": [
      "Epoch 122, global step 6150: 'val_loss' was not in top 1\n"
     ]
    },
    {
     "name": "stdout",
     "output_type": "stream",
     "text": [
      "Epoch 123: 100%|██████████| 50/50 [00:01<00:00, 28.76it/s, v_num=3, train_loss=659.0, val_loss=910.0]"
     ]
    },
    {
     "name": "stderr",
     "output_type": "stream",
     "text": [
      "Epoch 123, global step 6200: 'val_loss' was not in top 1\n"
     ]
    },
    {
     "name": "stdout",
     "output_type": "stream",
     "text": [
      "Epoch 124: 100%|██████████| 50/50 [00:01<00:00, 28.84it/s, v_num=3, train_loss=731.0, val_loss=990.0]"
     ]
    },
    {
     "name": "stderr",
     "output_type": "stream",
     "text": [
      "Epoch 124, global step 6250: 'val_loss' was not in top 1\n"
     ]
    },
    {
     "name": "stdout",
     "output_type": "stream",
     "text": [
      "Epoch 125:  74%|███████▍  | 37/50 [00:01<00:00, 28.98it/s, v_num=3, train_loss=881.0, val_loss=906.0]\n"
     ]
    },
    {
     "name": "stderr",
     "output_type": "stream",
     "text": [
      "/home/chris/courses/colab_tutorials/.venv/lib/python3.10/site-packages/lightning/pytorch/trainer/call.py:54: Detected KeyboardInterrupt, attempting graceful shutdown...\n"
     ]
    }
   ],
   "source": [
    "from lightning.pytorch.callbacks import ModelSummary\n",
    "from lightning.pytorch.callbacks.early_stopping import EarlyStopping\n",
    "from lightning.pytorch.callbacks import ModelCheckpoint\n",
    "from lightning.pytorch.loggers import CSVLogger\n",
    "\n",
    "from pathlib import Path\n",
    "import shutil\n",
    "\n",
    "\n",
    "save_dir = Path(\"my_model\")\n",
    "if save_dir.exists():\n",
    "    shutil.rmtree(save_dir)\n",
    "\n",
    "callbacks = [\n",
    "    ModelCheckpoint(dirpath=save_dir, save_top_k=1, monitor=\"val_loss\", verbose=True),\n",
    "    ModelSummary(max_depth=-1),\n",
    "    # EarlyStopping(monitor=\"val_loss\", mode=\"min\", verbose=True),\n",
    "]\n",
    "\n",
    "\n",
    "regressor = LitImageRegressor()\n",
    "trainer = L.Trainer(\n",
    "    max_epochs=200,\n",
    "    log_every_n_steps=1,\n",
    "    val_check_interval=1,\n",
    "    callbacks=callbacks,\n",
    "    logger=CSVLogger(\"lightning_logs\"),\n",
    ")\n",
    "trainer.fit(model=regressor, train_dataloaders=train_loader, val_dataloaders=val_loader)"
   ]
  },
  {
   "cell_type": "markdown",
   "metadata": {},
   "source": [
    "## Plot"
   ]
  },
  {
   "cell_type": "code",
   "execution_count": 6,
   "metadata": {},
   "outputs": [
    {
     "data": {
      "text/plain": [
       "<Axes: xlabel='epoch,step'>"
      ]
     },
     "execution_count": 6,
     "metadata": {},
     "output_type": "execute_result"
    },
    {
     "data": {
      "image/png": "[encoded data removed]",
      "text/plain": [
       "<Figure size 640x480 with 1 Axes>"
      ]
     },
     "metadata": {},
     "output_type": "display_data"
    }
   ],
   "source": [
    "import pandas as pd\n",
    "\n",
    "df_res = pd.read_csv(Path(trainer.logger.log_dir) / \"metrics.csv\")\n",
    "df_res = df_res.set_index([\"epoch\", \"step\"])\n",
    "df_res = pd.concat([df_res[\"train_loss\"].dropna(), df_res[\"val_loss\"].dropna()], axis=1)\n",
    "df_res.plot()"
   ]
  },
  {
   "cell_type": "code",
   "execution_count": 7,
   "metadata": {},
   "outputs": [
    {
     "name": "stderr",
     "output_type": "stream",
     "text": [
      "Trainer will use only 1 of 4 GPUs because it is running inside an interactive / notebook environment. You may try to set `Trainer(devices=4)` but please note that multi-GPU inside interactive / notebook environments is considered experimental and unstable. Your mileage may vary.\n",
      "GPU available: True (cuda), used: True\n",
      "TPU available: False, using: 0 TPU cores\n",
      "IPU available: False, using: 0 IPUs\n",
      "HPU available: False, using: 0 HPUs\n",
      "LOCAL_RANK: 0 - CUDA_VISIBLE_DEVICES: [0,1,2,3]\n",
      "/home/chris/courses/colab_tutorials/.venv/lib/python3.10/site-packages/lightning/pytorch/trainer/connectors/data_connector.py:441: The 'predict_dataloader' does not have many workers which may be a bottleneck. Consider increasing the value of the `num_workers` argument` to `num_workers=191` in the `DataLoader` to improve performance.\n"
     ]
    },
    {
     "name": "stdout",
     "output_type": "stream",
     "text": [
      "Predicting DataLoader 0: 100%|██████████| 10/10 [00:00<00:00, 604.34it/s]\n",
      "rmse = 29.41726\n",
      "r2 = -29.899838944773872\n"
     ]
    },
    {
     "data": {
      "image/png": "[encoded data removed]",
      "text/plain": [
       "<Figure size 640x480 with 1 Axes>"
      ]
     },
     "metadata": {},
     "output_type": "display_data"
    }
   ],
   "source": [
    "import matplotlib.pyplot as plt\n",
    "from sklearn.metrics import root_mean_squared_error, r2_score\n",
    "\n",
    "fig, ax = plt.subplots()\n",
    "best_regressor = LitImageRegressor.load_from_checkpoint(\n",
    "    list(save_dir.glob(\"*.ckpt\"))[0]\n",
    ")\n",
    "\n",
    "trainer = L.Trainer()\n",
    "preds = trainer.predict(best_regressor, test_loader)\n",
    "preds = torch.cat(preds).squeeze().numpy()\n",
    "\n",
    "rmse = root_mean_squared_error(preds, test_values)\n",
    "r2 = r2_score(preds, test_values)\n",
    "\n",
    "ax.plot(preds, test_values, \"o\")\n",
    "ax.plot([0, 100], [0, 100], \"k--\")\n",
    "ax.set_ylabel(\"true\")\n",
    "ax.set_xlabel(\"pred\")\n",
    "print(f\"{rmse = }\")\n",
    "print(f\"{r2 = }\")"
   ]
  }
 ],
 "metadata": {
  "kernelspec": {
   "display_name": ".venv",
   "language": "python",
   "name": "python3"
  },
  "language_info": {
   "codemirror_mode": {
    "name": "ipython",
    "version": 3
   },
   "file_extension": ".py",
   "mimetype": "text/x-python",
   "name": "python",
   "nbconvert_exporter": "python",
   "pygments_lexer": "ipython3",
   "version": "3.10.12"
  }
 },
 "nbformat": 4,
 "nbformat_minor": 2
}
