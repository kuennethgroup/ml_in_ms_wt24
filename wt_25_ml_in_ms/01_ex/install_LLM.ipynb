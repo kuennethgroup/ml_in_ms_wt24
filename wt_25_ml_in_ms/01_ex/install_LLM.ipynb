{
 "cells": [
  {
   "cell_type": "markdown",
   "metadata": {},
   "source": [
    "# Install Ollama LLM on coder"
   ]
  },
  {
   "cell_type": "markdown",
   "metadata": {},
   "source": [
    "1. Connect to coder\n",
    "2. Open terminal in VScode (Terminal -> New Terminal)\n",
    "3. Execute `curl -fsSL https://ollama.com/install.sh | sh`\n",
    "4. Execute `CUDA_VISIBLE_DEVICES=2 ollama serve &`\n",
    "5. Execute `ollama run llama3.2`\n",
    "6. **Solve** \"evaluate_python_skills.ipynb\" with the help of the deployed model\n",
    "7. Is there any other model better suited at https://ollama.com/library\n",
    "8. Delete models `ollama list` to show models `ollama rm llama3.2` to delete models. FREE UP some space on Galadriel\n"
   ]
  }
 ],
 "metadata": {
  "language_info": {
   "name": "python"
  }
 },
 "nbformat": 4,
 "nbformat_minor": 2
}
