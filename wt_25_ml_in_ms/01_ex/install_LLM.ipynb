{
 "cells": [
  {
   "cell_type": "markdown",
   "metadata": {},
   "source": [
    "# Install Ollama LLM on coder"
   ]
  },
  {
   "cell_type": "markdown",
   "metadata": {},
   "source": [
    "1. Connect to coder\n",
    "2. Open terminal in VScode (Terminal -> New Terminal)\n",
    "3. Execute `pdm install` : the dependencies in pyproject.toml\n",
    "4. Execute `curl -fsSL https://ollama.com/install.sh | sh`\n",
    "5. Execute `CUDA_VISIBLE_DEVICES=2 ollama serve &`\n",
    "6. Execute `ollama run llama3.2`\n",
    "7. **Solve** \"evaluate_python_skills.ipynb\" with the help of the deployed model\n",
    "8. Is there any other model better suited at https://ollama.com/library\n",
    "9. Delete models `ollama list` to show models `ollama rm llama3.2` to delete models. FREE UP some space on Galadriel\n"
   ]
  }
 ],
 "metadata": {
  "language_info": {
   "name": "python"
  }
 },
 "nbformat": 4,
 "nbformat_minor": 2
}
