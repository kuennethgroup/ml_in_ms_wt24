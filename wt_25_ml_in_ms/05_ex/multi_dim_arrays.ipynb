{
  "cells": [
    {
      "cell_type": "markdown",
      "metadata": {},
      "source": [
        "# Tutorial: Operations on arrays\n",
        "\n",
        "<!--<badge>--><a href=\"https://colab.research.google.com/github/kuennethgroup/colab_tutorials/blob/main/lecture5/AT_HOME_multi_dim_arrays.ipynb\" target=\"_parent\"><img src=\"https://colab.research.google.com/assets/colab-badge.svg\" alt=\"Open In Colab\"/></a><!--</badge>-->"
      ]
    },
    {
      "cell_type": "markdown",
      "metadata": {},
      "source": [
        "### Sum with einsum and sum\n",
        "\n",
        "- Use `numpy.random.rand` to generate a random 3x3x3 array. Set the random seed to 10 to make this reproducible\n",
        "- Save this array to the variable `arr`\n",
        "- Compute the sum along the second axis using `np.sum` and `np.einsum` functions.\n",
        "- Use `np.array_equal` to compare the results of `np.sum` and `np.einsum`.\n"
      ]
    },
    {
      "cell_type": "code",
      "execution_count": 2,
      "metadata": {},
      "outputs": [
        {
          "data": {
            "text/plain": [
              "True"
            ]
          },
          "execution_count": 2,
          "metadata": {},
          "output_type": "execute_result"
        }
      ],
      "source": []
    },
    {
      "cell_type": "markdown",
      "metadata": {},
      "source": [
        "### Size and shape\n",
        "\n",
        "1. Print the shape of the array `arr`\n",
        "2. Flatten `arr`\n",
        "3. Reshape `arr` to `(9, 3)` and (1, 9, 1, 3, 1)\n",
        "4. Increase the rank (add new dimension) of arr to (1, 3, 1, 3, 1, 3) using advanced slicing: `arr[...]`"
      ]
    },
    {
      "cell_type": "code",
      "execution_count": 26,
      "metadata": {},
      "outputs": [
        {
          "name": "stdout",
          "output_type": "stream",
          "text": [
            "arr.shape = (3, 3, 3)\n",
            "arr.flatten() = array([0.77132064, 0.02075195, 0.63364823, 0.74880388, 0.49850701,\n",
            "       0.22479665, 0.19806286, 0.76053071, 0.16911084, 0.08833981,\n",
            "       0.68535982, 0.95339335, 0.00394827, 0.51219226, 0.81262096,\n",
            "       0.61252607, 0.72175532, 0.29187607, 0.91777412, 0.71457578,\n",
            "       0.54254437, 0.14217005, 0.37334076, 0.67413362, 0.44183317,\n",
            "       0.43401399, 0.61776698])\n",
            "arr.reshape(9,3) = array([[0.77132064, 0.02075195, 0.63364823],\n",
            "       [0.74880388, 0.49850701, 0.22479665],\n",
            "       [0.19806286, 0.76053071, 0.16911084],\n",
            "       [0.08833981, 0.68535982, 0.95339335],\n",
            "       [0.00394827, 0.51219226, 0.81262096],\n",
            "       [0.61252607, 0.72175532, 0.29187607],\n",
            "       [0.91777412, 0.71457578, 0.54254437],\n",
            "       [0.14217005, 0.37334076, 0.67413362],\n",
            "       [0.44183317, 0.43401399, 0.61776698]])\n",
            "arr.reshape(1, 9, 1,3).shape = (1, 9, 1, 3)\n",
            "arr[None, :, None, :, None].shape = (1, 3, 1, 3, 1, 3)\n"
          ]
        }
      ],
      "source": []
    },
    {
      "cell_type": "markdown",
      "metadata": {},
      "source": [
        "### Dot product \n",
        "\n",
        "\n",
        "1. Compute the dot product of the vector $a_i = \\mathbf{arr}_{ijk} $ with itself ($\\mathbf{a}\\mathbf{a}$) using `np.sum` and `np.einsum`\n",
        "2. Compare the results using `np.array_equal` and `np.allclose`. Why does `np.array_equal` return False?\n"
      ]
    },
    {
      "cell_type": "code",
      "execution_count": 3,
      "metadata": {},
      "outputs": [
        {
          "data": {
            "text/plain": [
              "True"
            ]
          },
          "execution_count": 3,
          "metadata": {},
          "output_type": "execute_result"
        }
      ],
      "source": []
    },
    {
      "cell_type": "markdown",
      "metadata": {},
      "source": [
        "### Tensor product\n",
        "\n",
        "1. Compute the tensor product $\\mathbf{arr}\\otimes\\mathbf{arr}$ (with it self) using `np.tensordot(..., axes=0)` and `np.einsum`\n",
        "2. Compare the result of `np.outer` and `np.einsum` using `np.array_equal`\n"
      ]
    },
    {
      "cell_type": "code",
      "execution_count": 16,
      "metadata": {},
      "outputs": [
        {
          "data": {
            "text/plain": [
              "True"
            ]
          },
          "execution_count": 16,
          "metadata": {},
          "output_type": "execute_result"
        }
      ],
      "source": []
    },
    {
      "cell_type": "markdown",
      "metadata": {},
      "source": [
        "## Broadcasting \n",
        "\n",
        "1. Multiply each element of `arr` with `2``\n",
        "2. Multiply each element of `arr` with the vector $(2,2,2)$\n",
        "2. Multiply each element of `arr` with the vector $((2,2,2), (2,2,2), (2,2,2))$\n",
        "3. Compar the results of 1., 2., and 3. Why do they match?\n"
      ]
    },
    {
      "cell_type": "code",
      "execution_count": 29,
      "metadata": {},
      "outputs": [
        {
          "name": "stdout",
          "output_type": "stream",
          "text": [
            "arr * 2 = array([[[1.54264129, 0.0415039 , 1.26729647],\n",
            "        [1.49760777, 0.99701402, 0.44959329],\n",
            "        [0.39612573, 1.52106142, 0.33822167]],\n",
            "\n",
            "       [[0.17667963, 1.37071964, 1.90678669],\n",
            "        [0.00789653, 1.02438453, 1.62524192],\n",
            "        [1.22505213, 1.44351063, 0.58375214]],\n",
            "\n",
            "       [[1.83554825, 1.42915157, 1.08508874],\n",
            "        [0.2843401 , 0.74668152, 1.34826723],\n",
            "        [0.88366635, 0.86802799, 1.23553396]]])\n",
            "arr * [[2,2,2],[2,2,2],[2,2,2]] = array([[[1.54264129, 0.0415039 , 1.26729647],\n",
            "        [1.49760777, 0.99701402, 0.44959329],\n",
            "        [0.39612573, 1.52106142, 0.33822167]],\n",
            "\n",
            "       [[0.17667963, 1.37071964, 1.90678669],\n",
            "        [0.00789653, 1.02438453, 1.62524192],\n",
            "        [1.22505213, 1.44351063, 0.58375214]],\n",
            "\n",
            "       [[1.83554825, 1.42915157, 1.08508874],\n",
            "        [0.2843401 , 0.74668152, 1.34826723],\n",
            "        [0.88366635, 0.86802799, 1.23553396]]])\n"
          ]
        }
      ],
      "source": []
    }
  ],
  "metadata": {
    "kernelspec": {
      "display_name": "Python 3",
      "language": "python",
      "name": "python3"
    },
    "language_info": {
      "codemirror_mode": {
        "name": "ipython",
        "version": 3
      },
      "file_extension": ".py",
      "mimetype": "text/x-python",
      "name": "python",
      "nbconvert_exporter": "python",
      "pygments_lexer": "ipython3",
      "version": "3.12.0"
    }
  },
  "nbformat": 4,
  "nbformat_minor": 2
}