{
  "cells": [
    {
      "cell_type": "markdown",
      "metadata": {},
      "source": [
        "# Fingerprints\n",
        " \n",
        "<!--<badge>--><a href=\"https://colab.research.google.com/github/kuennethgroup/ml_in_ms_wt24/blob/main/wt_25_ml_in_ms/05_ex/fingerprints.ipynb\" target=\"_parent\"><img src=\"https://colab.research.google.com/assets/colab-badge.svg\" alt=\"Open In Colab\"/></a><!--</badge>-->"
      ]
    },
    {
      "cell_type": "markdown",
      "metadata": {},
      "source": [
        "### Fingerprints for text\n",
        "\n",
        "One-hot encoder to fingerprint words"
      ]
    },
    {
      "cell_type": "code",
      "execution_count": null,
      "metadata": {},
      "outputs": [
        {
          "data": {
            "text/html": [
              "<div>\n",
              "<style scoped>\n",
              "    .dataframe tbody tr th:only-of-type {\n",
              "        vertical-align: middle;\n",
              "    }\n",
              "\n",
              "    .dataframe tbody tr th {\n",
              "        vertical-align: top;\n",
              "    }\n",
              "\n",
              "    .dataframe thead th {\n",
              "        text-align: right;\n",
              "    }\n",
              "</style>\n",
              "<table border=\"1\" class=\"dataframe\">\n",
              "  <thead>\n",
              "    <tr style=\"text-align: right;\">\n",
              "      <th></th>\n",
              "      <th>0</th>\n",
              "      <th>1</th>\n",
              "      <th>2</th>\n",
              "      <th>3</th>\n",
              "      <th>4</th>\n",
              "      <th>5</th>\n",
              "    </tr>\n",
              "  </thead>\n",
              "  <tbody>\n",
              "    <tr>\n",
              "      <th>A</th>\n",
              "      <td>0.0</td>\n",
              "      <td>1.0</td>\n",
              "      <td>0.0</td>\n",
              "      <td>0.0</td>\n",
              "      <td>0.0</td>\n",
              "      <td>0.0</td>\n",
              "    </tr>\n",
              "    <tr>\n",
              "      <th>horse</th>\n",
              "      <td>0.0</td>\n",
              "      <td>0.0</td>\n",
              "      <td>0.0</td>\n",
              "      <td>0.0</td>\n",
              "      <td>1.0</td>\n",
              "      <td>0.0</td>\n",
              "    </tr>\n",
              "    <tr>\n",
              "      <th>,</th>\n",
              "      <td>1.0</td>\n",
              "      <td>0.0</td>\n",
              "      <td>0.0</td>\n",
              "      <td>0.0</td>\n",
              "      <td>0.0</td>\n",
              "      <td>0.0</td>\n",
              "    </tr>\n",
              "    <tr>\n",
              "      <th>rabbit</th>\n",
              "      <td>0.0</td>\n",
              "      <td>0.0</td>\n",
              "      <td>0.0</td>\n",
              "      <td>0.0</td>\n",
              "      <td>0.0</td>\n",
              "      <td>1.0</td>\n",
              "    </tr>\n",
              "    <tr>\n",
              "      <th>,</th>\n",
              "      <td>1.0</td>\n",
              "      <td>0.0</td>\n",
              "      <td>0.0</td>\n",
              "      <td>0.0</td>\n",
              "      <td>0.0</td>\n",
              "      <td>0.0</td>\n",
              "    </tr>\n",
              "    <tr>\n",
              "      <th>and</th>\n",
              "      <td>0.0</td>\n",
              "      <td>0.0</td>\n",
              "      <td>1.0</td>\n",
              "      <td>0.0</td>\n",
              "      <td>0.0</td>\n",
              "      <td>0.0</td>\n",
              "    </tr>\n",
              "    <tr>\n",
              "      <th>giraffe</th>\n",
              "      <td>0.0</td>\n",
              "      <td>0.0</td>\n",
              "      <td>0.0</td>\n",
              "      <td>1.0</td>\n",
              "      <td>0.0</td>\n",
              "      <td>0.0</td>\n",
              "    </tr>\n",
              "  </tbody>\n",
              "</table>\n",
              "</div>"
            ],
            "text/plain": [
              "           0    1    2    3    4    5\n",
              "A        0.0  1.0  0.0  0.0  0.0  0.0\n",
              "horse    0.0  0.0  0.0  0.0  1.0  0.0\n",
              ",        1.0  0.0  0.0  0.0  0.0  0.0\n",
              "rabbit   0.0  0.0  0.0  0.0  0.0  1.0\n",
              ",        1.0  0.0  0.0  0.0  0.0  0.0\n",
              "and      0.0  0.0  1.0  0.0  0.0  0.0\n",
              "giraffe  0.0  0.0  0.0  1.0  0.0  0.0"
            ]
          },
          "execution_count": 37,
          "metadata": {},
          "output_type": "execute_result"
        }
      ],
      "source": [
        "from sklearn.preprocessing import OneHotEncoder\n",
        "import pandas as pd\n",
        "\n",
        "enc = OneHotEncoder()\n",
        "sentence = [\"A\", \"horse\", \",\", \"rabbit\", \",\", \"and\", \"giraffe\"]\n",
        "\n",
        "df = pd.DataFrame(sentence, columns=[\"word\"])\n",
        "\n",
        "encoding = enc.fit_transform(df).toarray()\n",
        "df = pd.DataFrame(encoding, index=sentence)\n",
        "df\n",
        "# df\n",
        "\n",
        "[1 0 0] = low\n",
        "[0 1 0] = medium\n",
        "[0 0 1] = high\n"
      ]
    },
    {
      "cell_type": "markdown",
      "metadata": {},
      "source": [
        "# Tutorial\n",
        "\n",
        "1. Encode the sentence \"Meine Oma f\u00e4hrt im H\u00fchnerstall Motorrad\"\n",
        "2. Wirte the sentence by concatinating the fps vectors in a 1D vector\n",
        "\n",
        "Result:\n",
        "\n",
        "[0., 1., 0., 0., 0., 0., 0., 0., 0., 1., 0., 0., 0., 0., 0., 0., 1.,\n",
        " 0., 0., 0., 0., 0., 0., 1., 1., 0., 0., 0., 0., 0., 0., 0., 1., 0.,\n",
        " 0., 0.]"
      ]
    },
    {
      "cell_type": "code",
      "execution_count": null,
      "metadata": {},
      "outputs": [],
      "source": []
    },
    {
      "cell_type": "markdown",
      "metadata": {},
      "source": [
        "Cosine similarity measures the similarity of vectors "
      ]
    },
    {
      "cell_type": "code",
      "execution_count": 41,
      "metadata": {},
      "outputs": [
        {
          "data": {
            "text/html": [
              "<div>\n",
              "<style scoped>\n",
              "    .dataframe tbody tr th:only-of-type {\n",
              "        vertical-align: middle;\n",
              "    }\n",
              "\n",
              "    .dataframe tbody tr th {\n",
              "        vertical-align: top;\n",
              "    }\n",
              "\n",
              "    .dataframe thead th {\n",
              "        text-align: right;\n",
              "    }\n",
              "</style>\n",
              "<table border=\"1\" class=\"dataframe\">\n",
              "  <thead>\n",
              "    <tr style=\"text-align: right;\">\n",
              "      <th></th>\n",
              "      <th>A</th>\n",
              "      <th>horse</th>\n",
              "      <th>,</th>\n",
              "      <th>rabbit</th>\n",
              "      <th>,</th>\n",
              "      <th>and</th>\n",
              "      <th>giraffe</th>\n",
              "    </tr>\n",
              "  </thead>\n",
              "  <tbody>\n",
              "    <tr>\n",
              "      <th>A</th>\n",
              "      <td>1.0</td>\n",
              "      <td>0.0</td>\n",
              "      <td>0.0</td>\n",
              "      <td>0.0</td>\n",
              "      <td>0.0</td>\n",
              "      <td>0.0</td>\n",
              "      <td>0.0</td>\n",
              "    </tr>\n",
              "    <tr>\n",
              "      <th>horse</th>\n",
              "      <td>0.0</td>\n",
              "      <td>1.0</td>\n",
              "      <td>0.0</td>\n",
              "      <td>0.0</td>\n",
              "      <td>0.0</td>\n",
              "      <td>0.0</td>\n",
              "      <td>0.0</td>\n",
              "    </tr>\n",
              "    <tr>\n",
              "      <th>,</th>\n",
              "      <td>0.0</td>\n",
              "      <td>0.0</td>\n",
              "      <td>1.0</td>\n",
              "      <td>0.0</td>\n",
              "      <td>1.0</td>\n",
              "      <td>0.0</td>\n",
              "      <td>0.0</td>\n",
              "    </tr>\n",
              "    <tr>\n",
              "      <th>rabbit</th>\n",
              "      <td>0.0</td>\n",
              "      <td>0.0</td>\n",
              "      <td>0.0</td>\n",
              "      <td>1.0</td>\n",
              "      <td>0.0</td>\n",
              "      <td>0.0</td>\n",
              "      <td>0.0</td>\n",
              "    </tr>\n",
              "    <tr>\n",
              "      <th>,</th>\n",
              "      <td>0.0</td>\n",
              "      <td>0.0</td>\n",
              "      <td>1.0</td>\n",
              "      <td>0.0</td>\n",
              "      <td>1.0</td>\n",
              "      <td>0.0</td>\n",
              "      <td>0.0</td>\n",
              "    </tr>\n",
              "    <tr>\n",
              "      <th>and</th>\n",
              "      <td>0.0</td>\n",
              "      <td>0.0</td>\n",
              "      <td>0.0</td>\n",
              "      <td>0.0</td>\n",
              "      <td>0.0</td>\n",
              "      <td>1.0</td>\n",
              "      <td>0.0</td>\n",
              "    </tr>\n",
              "    <tr>\n",
              "      <th>giraffe</th>\n",
              "      <td>0.0</td>\n",
              "      <td>0.0</td>\n",
              "      <td>0.0</td>\n",
              "      <td>0.0</td>\n",
              "      <td>0.0</td>\n",
              "      <td>0.0</td>\n",
              "      <td>1.0</td>\n",
              "    </tr>\n",
              "  </tbody>\n",
              "</table>\n",
              "</div>"
            ],
            "text/plain": [
              "           A  horse    ,  rabbit    ,  and  giraffe\n",
              "A        1.0    0.0  0.0     0.0  0.0  0.0      0.0\n",
              "horse    0.0    1.0  0.0     0.0  0.0  0.0      0.0\n",
              ",        0.0    0.0  1.0     0.0  1.0  0.0      0.0\n",
              "rabbit   0.0    0.0  0.0     1.0  0.0  0.0      0.0\n",
              ",        0.0    0.0  1.0     0.0  1.0  0.0      0.0\n",
              "and      0.0    0.0  0.0     0.0  0.0  1.0      0.0\n",
              "giraffe  0.0    0.0  0.0     0.0  0.0  0.0      1.0"
            ]
          },
          "execution_count": 41,
          "metadata": {},
          "output_type": "execute_result"
        }
      ],
      "source": [
        "from sklearn.metrics.pairwise import cosine_similarity\n",
        "import numpy as np\n",
        "\n",
        "sim = cosine_similarity(df.values)\n",
        "pd.DataFrame(sim, columns=df.index, index=df.index)"
      ]
    },
    {
      "cell_type": "markdown",
      "metadata": {},
      "source": [
        "Fingerprint text by counting letters"
      ]
    },
    {
      "cell_type": "code",
      "execution_count": 17,
      "metadata": {},
      "outputs": [
        {
          "name": "stdout",
          "output_type": "stream",
          "text": [
            "Fingerprints\n"
          ]
        },
        {
          "data": {
            "text/plain": [
              "[{'h': 1, 'o': 1, 'r': 1, 's': 1, 'e': 1},\n",
              " {'r': 1, 'a': 1, 'b': 2, 'i': 1, 't': 1},\n",
              " {'g': 1, 'i': 1, 'r': 1, 'a': 1, 'f': 2, 'e': 1},\n",
              " {'h': 1, 'o': 1, 'r': 1, 's': 1, 'e': 1},\n",
              " {'r': 1, 'a': 1, 'b': 2, 'i': 1, 't': 1}]"
            ]
          },
          "execution_count": 17,
          "metadata": {},
          "output_type": "execute_result"
        }
      ],
      "source": [
        "# Function to count letters in a sentence\n",
        "def letter_count(s):\n",
        "    d = {}  # dict to return\n",
        "    for i in s:  # iterate characters\n",
        "        d[i] = d.get(i, 0) + 1\n",
        "    return d\n",
        "\n",
        "\n",
        "words = [\"horse\", \"rabbit\", \"giraffe\", \"horse\", \"rabbit\"]\n",
        "print(\"Fingerprints\")\n",
        "counts = [letter_count(xx) for xx in words]\n",
        "counts"
      ]
    },
    {
      "cell_type": "markdown",
      "metadata": {},
      "source": [
        "# Tutorial\n",
        "\n",
        "1. Encode the sentence \"Meine Oma f\u00e4hrt im H\u00fchnerstall Motorrad\"\n",
        "2. Wirte the sentence by concatinating the fps vectors in a 1D vector\n"
      ]
    },
    {
      "cell_type": "code",
      "execution_count": 9,
      "metadata": {},
      "outputs": [
        {
          "data": {
            "text/plain": [
              "['Meine', 'Oma', 'f\u00e4hrt', 'im', 'H\u00fchnerstall', 'Motorrad']"
            ]
          },
          "execution_count": 9,
          "metadata": {},
          "output_type": "execute_result"
        }
      ],
      "source": [
        "\"Meine Oma f\u00e4hrt im H\u00fchnerstall Motorrad\".split()"
      ]
    },
    {
      "cell_type": "code",
      "execution_count": 24,
      "metadata": {},
      "outputs": [
        {
          "name": "stdout",
          "output_type": "stream",
          "text": [
            "Fingerprints\n"
          ]
        },
        {
          "data": {
            "text/plain": [
              "array([1, 2, 1, 1, 1, 1, 1, 1, 1, 1, 1, 1, 1, 1, 1, 1, 1, 1, 1, 1, 1, 1,\n",
              "       1, 2, 1, 2, 1, 2, 1, 1])"
            ]
          },
          "execution_count": 24,
          "metadata": {},
          "output_type": "execute_result"
        }
      ],
      "source": [
        "# Function to count letters in a sentence\n",
        "import numpy as np\n",
        "\n",
        "\n",
        "def letter_count(s):\n",
        "    d = {}  # dict to return\n",
        "    for i in s:  # iterate characters\n",
        "        d[i] = d.get(i, 0) + 1\n",
        "    return d\n",
        "\n",
        "\n",
        "words = \"Meine Oma f\u00e4hrt im H\u00fchnerstall Motorrad\".split()\n",
        "counts = [letter_count(xx) for xx in words]\n",
        "\n",
        "lll = []\n",
        "for ll in counts:\n",
        "    lll += list(ll.values())\n",
        "\n",
        "print(\"Fingerprints\")\n",
        "np.array(lll)"
      ]
    },
    {
      "cell_type": "markdown",
      "metadata": {},
      "source": [
        "### Fingerprints for chemical structures"
      ]
    },
    {
      "cell_type": "code",
      "execution_count": 51,
      "metadata": {},
      "outputs": [
        {
          "name": "stderr",
          "output_type": "stream",
          "text": [
            "WARNING:root:Function is experimental. Please check results carefully.\n"
          ]
        },
        {
          "name": "stdout",
          "output_type": "stream",
          "text": [
            "[*]CCCCCCC(CCCCC[*])c1ccccc1\n"
          ]
        },
        {
          "data": {
            "image/png": "[encoded data removed]",
            "text/plain": [
              "<psmiles.psmiles.PolymerSmiles at 0x7f5d8a4f79b0>"
            ]
          },
          "execution_count": 51,
          "metadata": {},
          "output_type": "execute_result"
        }
      ],
      "source": [
        "# Install a pip package directly from GitHub is also possible with the following command\n",
        "\n",
        "# On Colab\n",
        "# pip install 'psmiles[polyBERT]@git+https://github.com/Ramprasad-Group/psmiles.git'\n",
        "# on Coder\n",
        "# pdm add psmiles[polyBERT]@git+https://github.com/Ramprasad-Group/psmiles.git\n",
        "\n",
        "from psmiles import PolymerSmiles\n",
        "\n",
        "# PSMILES string of polystyrene\n",
        "ps = \"C(c1ccccc1)(C[*])[*]\"\n",
        "pe = \"[*]CC[*]\"\n",
        "ps = PolymerSmiles(ps)\n",
        "pe = PolymerSmiles(pe)\n",
        "ps.linear_copolymer(pe, \"ABBBBB\")"
      ]
    },
    {
      "cell_type": "code",
      "execution_count": null,
      "metadata": {},
      "outputs": [
        {
          "data": {
            "text/plain": [
              "(2048,)"
            ]
          },
          "execution_count": 56,
          "metadata": {},
          "output_type": "execute_result"
        }
      ],
      "source": [
        "# Fingerprint of PS\n",
        "ps.fingerprint()"
      ]
    },
    {
      "cell_type": "markdown",
      "metadata": {},
      "source": [
        "# Tutorial\n",
        "\n",
        "- Compute the fingerprint  of all these polymers in a loop"
      ]
    },
    {
      "cell_type": "code",
      "execution_count": null,
      "metadata": {},
      "outputs": [
        {
          "name": "stdout",
          "output_type": "stream",
          "text": [
            "*CC*\n",
            "*CCO*\n",
            "*CC(C)*\n",
            "*CC(CC)*\n"
          ]
        },
        {
          "data": {
            "text/html": [
              "<div>\n",
              "<style scoped>\n",
              "    .dataframe tbody tr th:only-of-type {\n",
              "        vertical-align: middle;\n",
              "    }\n",
              "\n",
              "    .dataframe tbody tr th {\n",
              "        vertical-align: top;\n",
              "    }\n",
              "\n",
              "    .dataframe thead th {\n",
              "        text-align: right;\n",
              "    }\n",
              "</style>\n",
              "<table border=\"1\" class=\"dataframe\">\n",
              "  <thead>\n",
              "    <tr style=\"text-align: right;\">\n",
              "      <th></th>\n",
              "      <th>PSMILES</th>\n",
              "      <th>fingeprint</th>\n",
              "    </tr>\n",
              "  </thead>\n",
              "  <tbody>\n",
              "    <tr>\n",
              "      <th>0</th>\n",
              "      <td>*CC*</td>\n",
              "      <td>[0, 0, 0, 0, 0, 0, 0, 0, 0, 0, 0, 0, 0, 0, 0, ...</td>\n",
              "    </tr>\n",
              "    <tr>\n",
              "      <th>1</th>\n",
              "      <td>*CCO*</td>\n",
              "      <td>[0, 0, 0, 0, 0, 0, 0, 0, 0, 0, 0, 0, 0, 0, 0, ...</td>\n",
              "    </tr>\n",
              "    <tr>\n",
              "      <th>2</th>\n",
              "      <td>*CC(C)*</td>\n",
              "      <td>[0, 1, 0, 0, 0, 0, 0, 0, 0, 0, 0, 0, 0, 0, 0, ...</td>\n",
              "    </tr>\n",
              "    <tr>\n",
              "      <th>3</th>\n",
              "      <td>*CC(CC)*</td>\n",
              "      <td>[1, 1, 0, 0, 0, 0, 0, 0, 0, 0, 0, 0, 0, 0, 0, ...</td>\n",
              "    </tr>\n",
              "  </tbody>\n",
              "</table>\n",
              "</div>"
            ],
            "text/plain": [
              "    PSMILES                                         fingeprint\n",
              "0      *CC*  [0, 0, 0, 0, 0, 0, 0, 0, 0, 0, 0, 0, 0, 0, 0, ...\n",
              "1     *CCO*  [0, 0, 0, 0, 0, 0, 0, 0, 0, 0, 0, 0, 0, 0, 0, ...\n",
              "2   *CC(C)*  [0, 1, 0, 0, 0, 0, 0, 0, 0, 0, 0, 0, 0, 0, 0, ...\n",
              "3  *CC(CC)*  [1, 1, 0, 0, 0, 0, 0, 0, 0, 0, 0, 0, 0, 0, 0, ..."
            ]
          },
          "metadata": {},
          "output_type": "display_data"
        },
        {
          "data": {
            "text/plain": [
              "[array([0, 0, 0, ..., 0, 0, 0]),\n",
              " array([0, 0, 0, ..., 0, 0, 0]),\n",
              " array([0, 1, 0, ..., 0, 0, 0]),\n",
              " array([1, 1, 0, ..., 0, 0, 0])]"
            ]
          },
          "execution_count": 57,
          "metadata": {},
          "output_type": "execute_result"
        }
      ],
      "source": [
        "import pandas as pd\n",
        "\n",
        "\n",
        "psmiles_strings = [\n",
        "    \"*CC*\",\n",
        "    \"*CCO*\",\n",
        "    \"*CC(C)*\",\n",
        "    \"*CC(CC)*\",\n",
        "]\n",
        "\n",
        "fp_list = []\n",
        "for smiles in psmiles_strings:\n",
        "    fp = PolymerSmiles(smiles).fingerprint()\n",
        "    fp_list.append(fp)\n",
        "\n",
        "df = pd.DataFrame(psmiles_strings, columns=[\"PSMILES\"])\n",
        "df[\"fingeprint\"] = fp_list\n",
        "display(df)\n",
        "fp_list"
      ]
    },
    {
      "cell_type": "markdown",
      "metadata": {},
      "source": [
        "Action: \n",
        "- Measure similarity using `pairwise_distances` function of sklearn\n",
        "- Return as pandas dataframe"
      ]
    },
    {
      "cell_type": "code",
      "execution_count": 63,
      "metadata": {},
      "outputs": [
        {
          "data": {
            "text/html": [
              "<div>\n",
              "<style scoped>\n",
              "    .dataframe tbody tr th:only-of-type {\n",
              "        vertical-align: middle;\n",
              "    }\n",
              "\n",
              "    .dataframe tbody tr th {\n",
              "        vertical-align: top;\n",
              "    }\n",
              "\n",
              "    .dataframe thead th {\n",
              "        text-align: right;\n",
              "    }\n",
              "</style>\n",
              "<table border=\"1\" class=\"dataframe\">\n",
              "  <thead>\n",
              "    <tr style=\"text-align: right;\">\n",
              "      <th></th>\n",
              "      <th>*CC*</th>\n",
              "      <th>*CCO*</th>\n",
              "      <th>*CC(C)*</th>\n",
              "      <th>*CC(CC)*</th>\n",
              "    </tr>\n",
              "  </thead>\n",
              "  <tbody>\n",
              "    <tr>\n",
              "      <th>*CC*</th>\n",
              "      <td>0.000000</td>\n",
              "      <td>0.340620</td>\n",
              "      <td>0.386059</td>\n",
              "      <td>4.196190e-01</td>\n",
              "    </tr>\n",
              "    <tr>\n",
              "      <th>*CCO*</th>\n",
              "      <td>0.340620</td>\n",
              "      <td>0.000000</td>\n",
              "      <td>0.537348</td>\n",
              "      <td>5.216351e-01</td>\n",
              "    </tr>\n",
              "    <tr>\n",
              "      <th>*CC(C)*</th>\n",
              "      <td>0.386059</td>\n",
              "      <td>0.537348</td>\n",
              "      <td>0.000000</td>\n",
              "      <td>3.000868e-01</td>\n",
              "    </tr>\n",
              "    <tr>\n",
              "      <th>*CC(CC)*</th>\n",
              "      <td>0.419619</td>\n",
              "      <td>0.521635</td>\n",
              "      <td>0.300087</td>\n",
              "      <td>4.440892e-16</td>\n",
              "    </tr>\n",
              "  </tbody>\n",
              "</table>\n",
              "</div>"
            ],
            "text/plain": [
              "              *CC*     *CCO*   *CC(C)*      *CC(CC)*\n",
              "*CC*      0.000000  0.340620  0.386059  4.196190e-01\n",
              "*CCO*     0.340620  0.000000  0.537348  5.216351e-01\n",
              "*CC(C)*   0.386059  0.537348  0.000000  3.000868e-01\n",
              "*CC(CC)*  0.419619  0.521635  0.300087  4.440892e-16"
            ]
          },
          "execution_count": 63,
          "metadata": {},
          "output_type": "execute_result"
        }
      ],
      "source": [
        "# Yeah, sklearn again! We use the pairwise_distance\n",
        "from sklearn.metrics.pairwise import pairwise_distances\n",
        "import numpy as np\n",
        "\n",
        "# Use `euclidean` distance d = sqrt((p1-q1)**2 + (p2-q2)**2 + ...)\n",
        "# pairwise_distances( ...  metric=\"euclidean\")\n",
        "\n",
        "\n",
        "tt = pairwise_distances(fp_list, metric=\"cosine\")\n",
        "pd.DataFrame(tt, columns=psmiles_strings, index=psmiles_strings)"
      ]
    },
    {
      "cell_type": "code",
      "execution_count": 58,
      "metadata": {},
      "outputs": [
        {
          "ename": "NameError",
          "evalue": "name 'pairwise_distances' is not defined",
          "output_type": "error",
          "traceback": [
            "\u001b[0;31m---------------------------------------------------------------------------\u001b[0m",
            "\u001b[0;31mNameError\u001b[0m                                 Traceback (most recent call last)",
            "Cell \u001b[0;32mIn[58], line 1\u001b[0m\n\u001b[0;32m----> 1\u001b[0m \u001b[43mpairwise_distances\u001b[49m(fp_list, metric\u001b[38;5;241m=\u001b[39m\u001b[38;5;124m\"\u001b[39m\u001b[38;5;124meuclidean\u001b[39m\u001b[38;5;124m\"\u001b[39m)\n",
            "\u001b[0;31mNameError\u001b[0m: name 'pairwise_distances' is not defined"
          ]
        }
      ],
      "source": [
        "pairwise_distances(fp_list, metric=\"euclidean\")"
      ]
    },
    {
      "cell_type": "markdown",
      "metadata": {},
      "source": [
        "Action:\n",
        "\n",
        "- Create a one-hot encoded fingerprints of the PSMILES strings"
      ]
    },
    {
      "cell_type": "code",
      "execution_count": null,
      "metadata": {},
      "outputs": [],
      "source": []
    }
  ],
  "metadata": {
    "kernelspec": {
      "display_name": ".venv",
      "language": "python",
      "name": "python3"
    },
    "language_info": {
      "codemirror_mode": {
        "name": "ipython",
        "version": 3
      },
      "file_extension": ".py",
      "mimetype": "text/x-python",
      "name": "python",
      "nbconvert_exporter": "python",
      "pygments_lexer": "ipython3",
      "version": "3.12.7"
    }
  },
  "nbformat": 4,
  "nbformat_minor": 2
}