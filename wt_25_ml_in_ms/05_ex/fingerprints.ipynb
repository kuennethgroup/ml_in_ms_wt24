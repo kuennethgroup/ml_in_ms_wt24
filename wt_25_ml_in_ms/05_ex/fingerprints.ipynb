{
  "cells": [
    {
      "cell_type": "markdown",
      "metadata": {},
      "source": [
        "# Fingerprints\n",
        " \n",
        "<!--<badge>--><a href=\"https://colab.research.google.com/github/kuennethgroup/ml_in_ms_wt24/blob/main/wt_25_ml_in_ms/05_ex/fingerprints.ipynb\" target=\"_parent\"><img src=\"https://colab.research.google.com/assets/colab-badge.svg\" alt=\"Open In Colab\"/></a><!--</badge>-->"
      ]
    },
    {
      "cell_type": "markdown",
      "metadata": {},
      "source": [
        "### Fingerprints for text\n",
        "\n",
        "One-hot encoder to fingerprint words"
      ]
    },
    {
      "cell_type": "code",
      "execution_count": 37,
      "metadata": {},
      "outputs": [
        {
          "data": {
            "text/html": [
              "<div>\n",
              "<style scoped>\n",
              "    .dataframe tbody tr th:only-of-type {\n",
              "        vertical-align: middle;\n",
              "    }\n",
              "\n",
              "    .dataframe tbody tr th {\n",
              "        vertical-align: top;\n",
              "    }\n",
              "\n",
              "    .dataframe thead th {\n",
              "        text-align: right;\n",
              "    }\n",
              "</style>\n",
              "<table border=\"1\" class=\"dataframe\">\n",
              "  <thead>\n",
              "    <tr style=\"text-align: right;\">\n",
              "      <th></th>\n",
              "      <th>0</th>\n",
              "      <th>1</th>\n",
              "      <th>2</th>\n",
              "      <th>3</th>\n",
              "      <th>4</th>\n",
              "      <th>5</th>\n",
              "    </tr>\n",
              "  </thead>\n",
              "  <tbody>\n",
              "    <tr>\n",
              "      <th>A</th>\n",
              "      <td>0.0</td>\n",
              "      <td>1.0</td>\n",
              "      <td>0.0</td>\n",
              "      <td>0.0</td>\n",
              "      <td>0.0</td>\n",
              "      <td>0.0</td>\n",
              "    </tr>\n",
              "    <tr>\n",
              "      <th>horse</th>\n",
              "      <td>0.0</td>\n",
              "      <td>0.0</td>\n",
              "      <td>0.0</td>\n",
              "      <td>0.0</td>\n",
              "      <td>1.0</td>\n",
              "      <td>0.0</td>\n",
              "    </tr>\n",
              "    <tr>\n",
              "      <th>,</th>\n",
              "      <td>1.0</td>\n",
              "      <td>0.0</td>\n",
              "      <td>0.0</td>\n",
              "      <td>0.0</td>\n",
              "      <td>0.0</td>\n",
              "      <td>0.0</td>\n",
              "    </tr>\n",
              "    <tr>\n",
              "      <th>rabbit</th>\n",
              "      <td>0.0</td>\n",
              "      <td>0.0</td>\n",
              "      <td>0.0</td>\n",
              "      <td>0.0</td>\n",
              "      <td>0.0</td>\n",
              "      <td>1.0</td>\n",
              "    </tr>\n",
              "    <tr>\n",
              "      <th>,</th>\n",
              "      <td>1.0</td>\n",
              "      <td>0.0</td>\n",
              "      <td>0.0</td>\n",
              "      <td>0.0</td>\n",
              "      <td>0.0</td>\n",
              "      <td>0.0</td>\n",
              "    </tr>\n",
              "    <tr>\n",
              "      <th>and</th>\n",
              "      <td>0.0</td>\n",
              "      <td>0.0</td>\n",
              "      <td>1.0</td>\n",
              "      <td>0.0</td>\n",
              "      <td>0.0</td>\n",
              "      <td>0.0</td>\n",
              "    </tr>\n",
              "    <tr>\n",
              "      <th>giraffe</th>\n",
              "      <td>0.0</td>\n",
              "      <td>0.0</td>\n",
              "      <td>0.0</td>\n",
              "      <td>1.0</td>\n",
              "      <td>0.0</td>\n",
              "      <td>0.0</td>\n",
              "    </tr>\n",
              "  </tbody>\n",
              "</table>\n",
              "</div>"
            ],
            "text/plain": [
              "           0    1    2    3    4    5\n",
              "A        0.0  1.0  0.0  0.0  0.0  0.0\n",
              "horse    0.0  0.0  0.0  0.0  1.0  0.0\n",
              ",        1.0  0.0  0.0  0.0  0.0  0.0\n",
              "rabbit   0.0  0.0  0.0  0.0  0.0  1.0\n",
              ",        1.0  0.0  0.0  0.0  0.0  0.0\n",
              "and      0.0  0.0  1.0  0.0  0.0  0.0\n",
              "giraffe  0.0  0.0  0.0  1.0  0.0  0.0"
            ]
          },
          "execution_count": 37,
          "metadata": {},
          "output_type": "execute_result"
        }
      ],
      "source": [
        "from sklearn.preprocessing import OneHotEncoder\n",
        "import pandas as pd\n",
        "\n",
        "enc = OneHotEncoder()\n",
        "sentence = [\"A\", \"horse\", \",\", \"rabbit\", \",\", \"and\", \"giraffe\"]\n",
        "\n",
        "df = pd.DataFrame(sentence, columns=[\"word\"])\n",
        "\n",
        "encoding = enc.fit_transform(df).toarray()\n",
        "df = pd.DataFrame(encoding, index=sentence)\n",
        "df\n",
        "# df"
      ]
    },
    {
      "cell_type": "markdown",
      "metadata": {},
      "source": [
        "# Tutorial\n",
        "\n",
        "1. Encode the sentence \"Mein Oma f\u00e4hrt im H\u00fchnerstall Motorrad\"\n",
        "2. Wirte the sentence by concatinating the fps vectors in a 1D vector\n",
        "\n",
        "Result:\n",
        "\n",
        "[0., 1., 0., 0., 0., 0., 0., 0., 0., 1., 0., 0., 0., 0., 0., 0., 1.,\n",
        " 0., 0., 0., 0., 0., 0., 1., 1., 0., 0., 0., 0., 0., 0., 0., 1., 0.,\n",
        " 0., 0.]"
      ]
    },
    {
      "cell_type": "code",
      "execution_count": 39,
      "metadata": {},
      "outputs": [
        {
          "data": {
            "text/plain": [
              "array([[0., 1., 0., 0., 0., 0.],\n",
              "       [0., 0., 0., 0., 1., 0.],\n",
              "       [1., 0., 0., 0., 0., 0.],\n",
              "       [0., 0., 0., 0., 0., 1.],\n",
              "       [1., 0., 0., 0., 0., 0.],\n",
              "       [0., 0., 1., 0., 0., 0.],\n",
              "       [0., 0., 0., 1., 0., 0.]])"
            ]
          },
          "execution_count": 39,
          "metadata": {},
          "output_type": "execute_result"
        }
      ],
      "source": [
        "df.values"
      ]
    },
    {
      "cell_type": "markdown",
      "metadata": {},
      "source": [
        "Cosine similarity measures the similarity of vectors "
      ]
    },
    {
      "cell_type": "code",
      "execution_count": 41,
      "metadata": {},
      "outputs": [
        {
          "data": {
            "text/html": [
              "<div>\n",
              "<style scoped>\n",
              "    .dataframe tbody tr th:only-of-type {\n",
              "        vertical-align: middle;\n",
              "    }\n",
              "\n",
              "    .dataframe tbody tr th {\n",
              "        vertical-align: top;\n",
              "    }\n",
              "\n",
              "    .dataframe thead th {\n",
              "        text-align: right;\n",
              "    }\n",
              "</style>\n",
              "<table border=\"1\" class=\"dataframe\">\n",
              "  <thead>\n",
              "    <tr style=\"text-align: right;\">\n",
              "      <th></th>\n",
              "      <th>A</th>\n",
              "      <th>horse</th>\n",
              "      <th>,</th>\n",
              "      <th>rabbit</th>\n",
              "      <th>,</th>\n",
              "      <th>and</th>\n",
              "      <th>giraffe</th>\n",
              "    </tr>\n",
              "  </thead>\n",
              "  <tbody>\n",
              "    <tr>\n",
              "      <th>A</th>\n",
              "      <td>1.0</td>\n",
              "      <td>0.0</td>\n",
              "      <td>0.0</td>\n",
              "      <td>0.0</td>\n",
              "      <td>0.0</td>\n",
              "      <td>0.0</td>\n",
              "      <td>0.0</td>\n",
              "    </tr>\n",
              "    <tr>\n",
              "      <th>horse</th>\n",
              "      <td>0.0</td>\n",
              "      <td>1.0</td>\n",
              "      <td>0.0</td>\n",
              "      <td>0.0</td>\n",
              "      <td>0.0</td>\n",
              "      <td>0.0</td>\n",
              "      <td>0.0</td>\n",
              "    </tr>\n",
              "    <tr>\n",
              "      <th>,</th>\n",
              "      <td>0.0</td>\n",
              "      <td>0.0</td>\n",
              "      <td>1.0</td>\n",
              "      <td>0.0</td>\n",
              "      <td>1.0</td>\n",
              "      <td>0.0</td>\n",
              "      <td>0.0</td>\n",
              "    </tr>\n",
              "    <tr>\n",
              "      <th>rabbit</th>\n",
              "      <td>0.0</td>\n",
              "      <td>0.0</td>\n",
              "      <td>0.0</td>\n",
              "      <td>1.0</td>\n",
              "      <td>0.0</td>\n",
              "      <td>0.0</td>\n",
              "      <td>0.0</td>\n",
              "    </tr>\n",
              "    <tr>\n",
              "      <th>,</th>\n",
              "      <td>0.0</td>\n",
              "      <td>0.0</td>\n",
              "      <td>1.0</td>\n",
              "      <td>0.0</td>\n",
              "      <td>1.0</td>\n",
              "      <td>0.0</td>\n",
              "      <td>0.0</td>\n",
              "    </tr>\n",
              "    <tr>\n",
              "      <th>and</th>\n",
              "      <td>0.0</td>\n",
              "      <td>0.0</td>\n",
              "      <td>0.0</td>\n",
              "      <td>0.0</td>\n",
              "      <td>0.0</td>\n",
              "      <td>1.0</td>\n",
              "      <td>0.0</td>\n",
              "    </tr>\n",
              "    <tr>\n",
              "      <th>giraffe</th>\n",
              "      <td>0.0</td>\n",
              "      <td>0.0</td>\n",
              "      <td>0.0</td>\n",
              "      <td>0.0</td>\n",
              "      <td>0.0</td>\n",
              "      <td>0.0</td>\n",
              "      <td>1.0</td>\n",
              "    </tr>\n",
              "  </tbody>\n",
              "</table>\n",
              "</div>"
            ],
            "text/plain": [
              "           A  horse    ,  rabbit    ,  and  giraffe\n",
              "A        1.0    0.0  0.0     0.0  0.0  0.0      0.0\n",
              "horse    0.0    1.0  0.0     0.0  0.0  0.0      0.0\n",
              ",        0.0    0.0  1.0     0.0  1.0  0.0      0.0\n",
              "rabbit   0.0    0.0  0.0     1.0  0.0  0.0      0.0\n",
              ",        0.0    0.0  1.0     0.0  1.0  0.0      0.0\n",
              "and      0.0    0.0  0.0     0.0  0.0  1.0      0.0\n",
              "giraffe  0.0    0.0  0.0     0.0  0.0  0.0      1.0"
            ]
          },
          "execution_count": 41,
          "metadata": {},
          "output_type": "execute_result"
        }
      ],
      "source": [
        "from sklearn.metrics.pairwise import cosine_similarity\n",
        "import numpy as np\n",
        "\n",
        "sim = cosine_similarity(df.values)\n",
        "pd.DataFrame(sim, columns=df.index, index=df.index)"
      ]
    },
    {
      "cell_type": "markdown",
      "metadata": {},
      "source": [
        "Fingerprint text by counting letters"
      ]
    },
    {
      "cell_type": "code",
      "execution_count": 17,
      "metadata": {},
      "outputs": [
        {
          "name": "stdout",
          "output_type": "stream",
          "text": [
            "Fingerprints\n"
          ]
        },
        {
          "data": {
            "text/plain": [
              "[{'h': 1, 'o': 1, 'r': 1, 's': 1, 'e': 1},\n",
              " {'r': 1, 'a': 1, 'b': 2, 'i': 1, 't': 1},\n",
              " {'g': 1, 'i': 1, 'r': 1, 'a': 1, 'f': 2, 'e': 1},\n",
              " {'h': 1, 'o': 1, 'r': 1, 's': 1, 'e': 1},\n",
              " {'r': 1, 'a': 1, 'b': 2, 'i': 1, 't': 1}]"
            ]
          },
          "execution_count": 17,
          "metadata": {},
          "output_type": "execute_result"
        }
      ],
      "source": [
        "# Function to count letters in a sentence\n",
        "def letter_count(s):\n",
        "    d = {}  # dict to return\n",
        "    for i in s:  # iterate characters\n",
        "        d[i] = d.get(i, 0) + 1\n",
        "    return d\n",
        "\n",
        "\n",
        "words = [\"horse\", \"rabbit\", \"giraffe\", \"horse\", \"rabbit\"]\n",
        "print(\"Fingerprints\")\n",
        "counts = [letter_count(xx) for xx in words]\n",
        "counts"
      ]
    },
    {
      "cell_type": "markdown",
      "metadata": {},
      "source": [
        "# Tutorial\n",
        "\n",
        "1. Encode the sentence \"Mein Oma f\u00e4hrt im H\u00fchnerstall Motorrad\"\n",
        "2. Wirte the sentence by concatinating the fps vectors in a 1D vector\n"
      ]
    },
    {
      "cell_type": "markdown",
      "metadata": {},
      "source": [
        "### Fingerprints for chemical structures"
      ]
    },
    {
      "cell_type": "code",
      "execution_count": 17,
      "metadata": {},
      "outputs": [
        {
          "name": "stdout",
          "output_type": "stream",
          "text": [
            "C(c1ccccc1)(C[*])[*]\n"
          ]
        },
        {
          "data": {
            "image/png": "[encoded data removed]",
            "text/plain": [
              "<psmiles.psmiles.PolymerSmiles at 0x7fd80cecef20>"
            ]
          },
          "execution_count": 17,
          "metadata": {},
          "output_type": "execute_result"
        }
      ],
      "source": [
        "# Install a pip package directly from GitHub is also possible with the following command\n",
        "#!pip install 'psmiles[polyBERT]@git+https://github.com/Ramprasad-Group/psmiles.git'\n",
        "\n",
        "from psmiles import PolymerSmiles\n",
        "\n",
        "# PSMILES string of polystyrene\n",
        "polystyrene = \"C(c1ccccc1)(C[*])[*]\"\n",
        "ps = PolymerSmiles(polystyrene)\n",
        "ps"
      ]
    },
    {
      "cell_type": "code",
      "execution_count": 6,
      "metadata": {},
      "outputs": [
        {
          "data": {
            "text/plain": [
              "array([0, 1, 0, ..., 0, 0, 0])"
            ]
          },
          "execution_count": 6,
          "metadata": {},
          "output_type": "execute_result"
        }
      ],
      "source": [
        "# Fingerprint of PS\n",
        "ps.fingerprint()"
      ]
    },
    {
      "cell_type": "markdown",
      "metadata": {},
      "source": [
        "# Tutorial\n",
        "\n",
        "- Compute the fingerprint  of all these polymers in a loop"
      ]
    },
    {
      "cell_type": "code",
      "execution_count": 19,
      "metadata": {},
      "outputs": [
        {
          "data": {
            "text/html": [
              "<div>\n",
              "<style scoped>\n",
              "    .dataframe tbody tr th:only-of-type {\n",
              "        vertical-align: middle;\n",
              "    }\n",
              "\n",
              "    .dataframe tbody tr th {\n",
              "        vertical-align: top;\n",
              "    }\n",
              "\n",
              "    .dataframe thead th {\n",
              "        text-align: right;\n",
              "    }\n",
              "</style>\n",
              "<table border=\"1\" class=\"dataframe\">\n",
              "  <thead>\n",
              "    <tr style=\"text-align: right;\">\n",
              "      <th></th>\n",
              "      <th>PSMILES</th>\n",
              "      <th>fingeprint</th>\n",
              "    </tr>\n",
              "  </thead>\n",
              "  <tbody>\n",
              "    <tr>\n",
              "      <th>0</th>\n",
              "      <td>*CC*</td>\n",
              "      <td>[0, 0, 0, 0, 0, 0, 0, 0, 0, 0, 0, 0, 0, 0, 0, ...</td>\n",
              "    </tr>\n",
              "    <tr>\n",
              "      <th>1</th>\n",
              "      <td>*CCO*</td>\n",
              "      <td>[0, 0, 0, 0, 0, 0, 0, 0, 0, 0, 0, 0, 0, 0, 0, ...</td>\n",
              "    </tr>\n",
              "    <tr>\n",
              "      <th>2</th>\n",
              "      <td>*CC(C)*</td>\n",
              "      <td>[0, 1, 0, 0, 0, 0, 0, 0, 0, 0, 0, 0, 0, 0, 0, ...</td>\n",
              "    </tr>\n",
              "    <tr>\n",
              "      <th>3</th>\n",
              "      <td>*CC(CC)*</td>\n",
              "      <td>[1, 1, 0, 0, 0, 0, 0, 0, 0, 0, 0, 0, 0, 0, 0, ...</td>\n",
              "    </tr>\n",
              "  </tbody>\n",
              "</table>\n",
              "</div>"
            ],
            "text/plain": [
              "    PSMILES                                         fingeprint\n",
              "0      *CC*  [0, 0, 0, 0, 0, 0, 0, 0, 0, 0, 0, 0, 0, 0, 0, ...\n",
              "1     *CCO*  [0, 0, 0, 0, 0, 0, 0, 0, 0, 0, 0, 0, 0, 0, 0, ...\n",
              "2   *CC(C)*  [0, 1, 0, 0, 0, 0, 0, 0, 0, 0, 0, 0, 0, 0, 0, ...\n",
              "3  *CC(CC)*  [1, 1, 0, 0, 0, 0, 0, 0, 0, 0, 0, 0, 0, 0, 0, ..."
            ]
          },
          "metadata": {},
          "output_type": "display_data"
        },
        {
          "data": {
            "text/plain": [
              "[array([0, 0, 0, ..., 0, 0, 0]),\n",
              " array([0, 0, 0, ..., 0, 0, 0]),\n",
              " array([0, 1, 0, ..., 0, 0, 0]),\n",
              " array([1, 1, 0, ..., 0, 0, 0])]"
            ]
          },
          "execution_count": 19,
          "metadata": {},
          "output_type": "execute_result"
        }
      ],
      "source": [
        "import pandas as pd\n",
        "\n",
        "\n",
        "psmiles_strings = [\n",
        "    \"*CC*\",\n",
        "    \"*CCO*\",\n",
        "    \"*CC(C)*\",\n",
        "    \"*CC(CC)*\",\n",
        "]\n",
        "\n",
        "fp_list = []\n",
        "for smiles in psmiles_strings:\n",
        "    fp = PolymerSmiles(smiles).fingerprint()\n",
        "    fp_list.append(fp)\n",
        "\n",
        "df = pd.DataFrame(psmiles_strings, columns=[\"PSMILES\"])\n",
        "df[\"fingeprint\"] = fp_list\n",
        "display(df)\n",
        "fp_list"
      ]
    },
    {
      "cell_type": "markdown",
      "metadata": {},
      "source": [
        "Action: \n",
        "- Measure similarity using `pairwise_distances` function of sklearn\n",
        "- Return as pandas dataframe"
      ]
    },
    {
      "cell_type": "code",
      "execution_count": null,
      "metadata": {},
      "outputs": [
        {
          "data": {
            "text/html": [
              "<div>\n",
              "<style scoped>\n",
              "    .dataframe tbody tr th:only-of-type {\n",
              "        vertical-align: middle;\n",
              "    }\n",
              "\n",
              "    .dataframe tbody tr th {\n",
              "        vertical-align: top;\n",
              "    }\n",
              "\n",
              "    .dataframe thead th {\n",
              "        text-align: right;\n",
              "    }\n",
              "</style>\n",
              "<table border=\"1\" class=\"dataframe\">\n",
              "  <thead>\n",
              "    <tr style=\"text-align: right;\">\n",
              "      <th>psmiles</th>\n",
              "      <th>*CC*</th>\n",
              "      <th>*CCO*</th>\n",
              "      <th>*CC(C)*</th>\n",
              "    </tr>\n",
              "    <tr>\n",
              "      <th>psmiles</th>\n",
              "      <th></th>\n",
              "      <th></th>\n",
              "      <th></th>\n",
              "    </tr>\n",
              "  </thead>\n",
              "  <tbody>\n",
              "    <tr>\n",
              "      <th>*CC*</th>\n",
              "      <td>0.000000</td>\n",
              "      <td>3.605551</td>\n",
              "      <td>3.000000</td>\n",
              "    </tr>\n",
              "    <tr>\n",
              "      <th>*CCO*</th>\n",
              "      <td>3.605551</td>\n",
              "      <td>0.000000</td>\n",
              "      <td>4.472136</td>\n",
              "    </tr>\n",
              "    <tr>\n",
              "      <th>*CC(C)*</th>\n",
              "      <td>3.000000</td>\n",
              "      <td>4.472136</td>\n",
              "      <td>0.000000</td>\n",
              "    </tr>\n",
              "  </tbody>\n",
              "</table>\n",
              "</div>"
            ],
            "text/plain": [
              "psmiles      *CC*     *CCO*   *CC(C)*\n",
              "psmiles                              \n",
              "*CC*     0.000000  3.605551  3.000000\n",
              "*CCO*    3.605551  0.000000  4.472136\n",
              "*CC(C)*  3.000000  4.472136  0.000000"
            ]
          },
          "execution_count": 8,
          "metadata": {},
          "output_type": "execute_result"
        }
      ],
      "source": [
        "# Yeah, sklearn again! We use the pairwise_distance\n",
        "from sklearn.metrics.pairwise import pairwise_distances\n",
        "import numpy as np\n",
        "\n",
        "# Use `euclidean` distance d = sqrt((p1-q1)**2 + (p2-q2)**2 + ...)\n",
        "# pairwise_distances( ...  metric=\"euclidean\")\n"
      ]
    },
    {
      "cell_type": "markdown",
      "metadata": {},
      "source": [
        "Action:\n",
        "\n",
        "- Create a one-hot encoded fingerprints of the PSMILES strings"
      ]
    },
    {
      "cell_type": "code",
      "execution_count": null,
      "metadata": {},
      "outputs": [],
      "source": []
    }
  ],
  "metadata": {
    "kernelspec": {
      "display_name": ".venv",
      "language": "python",
      "name": "python3"
    },
    "language_info": {
      "codemirror_mode": {
        "name": "ipython",
        "version": 3
      },
      "file_extension": ".py",
      "mimetype": "text/x-python",
      "name": "python",
      "nbconvert_exporter": "python",
      "pygments_lexer": "ipython3",
      "version": "3.12.7"
    }
  },
  "nbformat": 4,
  "nbformat_minor": 2
}